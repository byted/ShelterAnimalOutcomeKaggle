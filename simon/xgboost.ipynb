{
 "cells": [
  {
   "cell_type": "code",
   "execution_count": 8,
   "metadata": {
    "collapsed": true
   },
   "outputs": [],
   "source": [
    "# adapted version of https://www.kaggle.com/cbrogan/titanic/xgboost-example-python/code\n",
    "import pandas as pd\n",
    "import xgboost as xgb\n",
    "from sklearn.preprocessing import LabelEncoder\n",
    "import numpy as np\n",
    "%matplotlib inline"
   ]
  },
  {
   "cell_type": "code",
   "execution_count": 9,
   "metadata": {
    "collapsed": false
   },
   "outputs": [
    {
     "data": {
      "text/html": [
       "<div>\n",
       "<table border=\"1\" class=\"dataframe\">\n",
       "  <thead>\n",
       "    <tr style=\"text-align: right;\">\n",
       "      <th></th>\n",
       "      <th>AnimalID</th>\n",
       "      <th>Name</th>\n",
       "      <th>DateTime</th>\n",
       "      <th>OutcomeType</th>\n",
       "      <th>OutcomeSubtype</th>\n",
       "      <th>AnimalType</th>\n",
       "      <th>SexuponOutcome</th>\n",
       "      <th>AgeuponOutcome</th>\n",
       "      <th>Breed</th>\n",
       "      <th>Color</th>\n",
       "    </tr>\n",
       "  </thead>\n",
       "  <tbody>\n",
       "    <tr>\n",
       "      <th>0</th>\n",
       "      <td>A671945</td>\n",
       "      <td>Hambone</td>\n",
       "      <td>2014-02-12 18:22:00</td>\n",
       "      <td>Return_to_owner</td>\n",
       "      <td>NaN</td>\n",
       "      <td>Dog</td>\n",
       "      <td>Neutered Male</td>\n",
       "      <td>1 year</td>\n",
       "      <td>Shetland Sheepdog Mix</td>\n",
       "      <td>Brown/White</td>\n",
       "    </tr>\n",
       "    <tr>\n",
       "      <th>1</th>\n",
       "      <td>A656520</td>\n",
       "      <td>Emily</td>\n",
       "      <td>2013-10-13 12:44:00</td>\n",
       "      <td>Euthanasia</td>\n",
       "      <td>Suffering</td>\n",
       "      <td>Cat</td>\n",
       "      <td>Spayed Female</td>\n",
       "      <td>1 year</td>\n",
       "      <td>Domestic Shorthair Mix</td>\n",
       "      <td>Cream Tabby</td>\n",
       "    </tr>\n",
       "    <tr>\n",
       "      <th>2</th>\n",
       "      <td>A686464</td>\n",
       "      <td>Pearce</td>\n",
       "      <td>2015-01-31 12:28:00</td>\n",
       "      <td>Adoption</td>\n",
       "      <td>Foster</td>\n",
       "      <td>Dog</td>\n",
       "      <td>Neutered Male</td>\n",
       "      <td>2 years</td>\n",
       "      <td>Pit Bull Mix</td>\n",
       "      <td>Blue/White</td>\n",
       "    </tr>\n",
       "    <tr>\n",
       "      <th>3</th>\n",
       "      <td>A683430</td>\n",
       "      <td>NaN</td>\n",
       "      <td>2014-07-11 19:09:00</td>\n",
       "      <td>Transfer</td>\n",
       "      <td>Partner</td>\n",
       "      <td>Cat</td>\n",
       "      <td>Intact Male</td>\n",
       "      <td>3 weeks</td>\n",
       "      <td>Domestic Shorthair Mix</td>\n",
       "      <td>Blue Cream</td>\n",
       "    </tr>\n",
       "    <tr>\n",
       "      <th>4</th>\n",
       "      <td>A667013</td>\n",
       "      <td>NaN</td>\n",
       "      <td>2013-11-15 12:52:00</td>\n",
       "      <td>Transfer</td>\n",
       "      <td>Partner</td>\n",
       "      <td>Dog</td>\n",
       "      <td>Neutered Male</td>\n",
       "      <td>2 years</td>\n",
       "      <td>Lhasa Apso/Miniature Poodle</td>\n",
       "      <td>Tan</td>\n",
       "    </tr>\n",
       "  </tbody>\n",
       "</table>\n",
       "</div>"
      ],
      "text/plain": [
       "  AnimalID     Name             DateTime      OutcomeType OutcomeSubtype  \\\n",
       "0  A671945  Hambone  2014-02-12 18:22:00  Return_to_owner            NaN   \n",
       "1  A656520    Emily  2013-10-13 12:44:00       Euthanasia      Suffering   \n",
       "2  A686464   Pearce  2015-01-31 12:28:00         Adoption         Foster   \n",
       "3  A683430      NaN  2014-07-11 19:09:00         Transfer        Partner   \n",
       "4  A667013      NaN  2013-11-15 12:52:00         Transfer        Partner   \n",
       "\n",
       "  AnimalType SexuponOutcome AgeuponOutcome                        Breed  \\\n",
       "0        Dog  Neutered Male         1 year        Shetland Sheepdog Mix   \n",
       "1        Cat  Spayed Female         1 year       Domestic Shorthair Mix   \n",
       "2        Dog  Neutered Male        2 years                 Pit Bull Mix   \n",
       "3        Cat    Intact Male        3 weeks       Domestic Shorthair Mix   \n",
       "4        Dog  Neutered Male        2 years  Lhasa Apso/Miniature Poodle   \n",
       "\n",
       "         Color  \n",
       "0  Brown/White  \n",
       "1  Cream Tabby  \n",
       "2   Blue/White  \n",
       "3   Blue Cream  \n",
       "4          Tan  "
      ]
     },
     "execution_count": 9,
     "metadata": {},
     "output_type": "execute_result"
    }
   ],
   "source": [
    "# Load the data\n",
    "train_df = pd.read_csv('../data/train.csv', header=0)\n",
    "test_df = pd.read_csv('../data/test.csv', header=0)\n",
    "train_df.head()"
   ]
  },
  {
   "cell_type": "code",
   "execution_count": 10,
   "metadata": {
    "collapsed": false
   },
   "outputs": [
    {
     "data": {
      "text/html": [
       "<div>\n",
       "<table border=\"1\" class=\"dataframe\">\n",
       "  <thead>\n",
       "    <tr style=\"text-align: right;\">\n",
       "      <th></th>\n",
       "      <th>AnimalID</th>\n",
       "      <th>Name</th>\n",
       "      <th>DateTime</th>\n",
       "      <th>OutcomeType</th>\n",
       "      <th>OutcomeSubtype</th>\n",
       "      <th>AnimalType</th>\n",
       "      <th>SexuponOutcome</th>\n",
       "      <th>AgeuponOutcome</th>\n",
       "      <th>Breed</th>\n",
       "      <th>Color</th>\n",
       "      <th>Intact</th>\n",
       "      <th>Sex</th>\n",
       "      <th>AgeuponOutcomeInDays</th>\n",
       "      <th>AgeuponOutcomeInYears</th>\n",
       "    </tr>\n",
       "  </thead>\n",
       "  <tbody>\n",
       "    <tr>\n",
       "      <th>5</th>\n",
       "      <td>A677334</td>\n",
       "      <td>Elsa</td>\n",
       "      <td>2014-04-25 13:04:00</td>\n",
       "      <td>Transfer</td>\n",
       "      <td>Partner</td>\n",
       "      <td>Dog</td>\n",
       "      <td>Intact Female</td>\n",
       "      <td>1 month</td>\n",
       "      <td>Cairn Terrier/Chihuahua Shorthair</td>\n",
       "      <td>Black/Tan</td>\n",
       "      <td>Intact</td>\n",
       "      <td>Female</td>\n",
       "      <td>31.0</td>\n",
       "      <td>0.0</td>\n",
       "    </tr>\n",
       "    <tr>\n",
       "      <th>6</th>\n",
       "      <td>A699218</td>\n",
       "      <td>Jimmy</td>\n",
       "      <td>2015-03-28 13:11:00</td>\n",
       "      <td>Transfer</td>\n",
       "      <td>Partner</td>\n",
       "      <td>Cat</td>\n",
       "      <td>Intact Male</td>\n",
       "      <td>3 weeks</td>\n",
       "      <td>Domestic Shorthair Mix</td>\n",
       "      <td>Blue Tabby</td>\n",
       "      <td>Intact</td>\n",
       "      <td>Male</td>\n",
       "      <td>21.0</td>\n",
       "      <td>0.0</td>\n",
       "    </tr>\n",
       "    <tr>\n",
       "      <th>7</th>\n",
       "      <td>A701489</td>\n",
       "      <td>NaN</td>\n",
       "      <td>2015-04-30 17:02:00</td>\n",
       "      <td>Transfer</td>\n",
       "      <td>Partner</td>\n",
       "      <td>Cat</td>\n",
       "      <td>Unknown</td>\n",
       "      <td>3 weeks</td>\n",
       "      <td>Domestic Shorthair Mix</td>\n",
       "      <td>Brown Tabby</td>\n",
       "      <td>NaN</td>\n",
       "      <td>NaN</td>\n",
       "      <td>21.0</td>\n",
       "      <td>0.0</td>\n",
       "    </tr>\n",
       "    <tr>\n",
       "      <th>8</th>\n",
       "      <td>A671784</td>\n",
       "      <td>Lucy</td>\n",
       "      <td>2014-02-04 17:17:00</td>\n",
       "      <td>Adoption</td>\n",
       "      <td>NaN</td>\n",
       "      <td>Dog</td>\n",
       "      <td>Spayed Female</td>\n",
       "      <td>5 months</td>\n",
       "      <td>American Pit Bull Terrier Mix</td>\n",
       "      <td>Red/White</td>\n",
       "      <td>Neutered</td>\n",
       "      <td>Female</td>\n",
       "      <td>155.0</td>\n",
       "      <td>0.0</td>\n",
       "    </tr>\n",
       "    <tr>\n",
       "      <th>9</th>\n",
       "      <td>A677747</td>\n",
       "      <td>NaN</td>\n",
       "      <td>2014-05-03 07:48:00</td>\n",
       "      <td>Adoption</td>\n",
       "      <td>Offsite</td>\n",
       "      <td>Dog</td>\n",
       "      <td>Spayed Female</td>\n",
       "      <td>1 year</td>\n",
       "      <td>Cairn Terrier</td>\n",
       "      <td>White</td>\n",
       "      <td>Neutered</td>\n",
       "      <td>Female</td>\n",
       "      <td>365.0</td>\n",
       "      <td>1.0</td>\n",
       "    </tr>\n",
       "  </tbody>\n",
       "</table>\n",
       "</div>"
      ],
      "text/plain": [
       "  AnimalID   Name             DateTime OutcomeType OutcomeSubtype AnimalType  \\\n",
       "5  A677334   Elsa  2014-04-25 13:04:00    Transfer        Partner        Dog   \n",
       "6  A699218  Jimmy  2015-03-28 13:11:00    Transfer        Partner        Cat   \n",
       "7  A701489    NaN  2015-04-30 17:02:00    Transfer        Partner        Cat   \n",
       "8  A671784   Lucy  2014-02-04 17:17:00    Adoption            NaN        Dog   \n",
       "9  A677747    NaN  2014-05-03 07:48:00    Adoption        Offsite        Dog   \n",
       "\n",
       "  SexuponOutcome AgeuponOutcome                              Breed  \\\n",
       "5  Intact Female        1 month  Cairn Terrier/Chihuahua Shorthair   \n",
       "6    Intact Male        3 weeks             Domestic Shorthair Mix   \n",
       "7        Unknown        3 weeks             Domestic Shorthair Mix   \n",
       "8  Spayed Female       5 months      American Pit Bull Terrier Mix   \n",
       "9  Spayed Female         1 year                      Cairn Terrier   \n",
       "\n",
       "         Color    Intact     Sex  AgeuponOutcomeInDays  AgeuponOutcomeInYears  \n",
       "5    Black/Tan    Intact  Female                  31.0                    0.0  \n",
       "6   Blue Tabby    Intact    Male                  21.0                    0.0  \n",
       "7  Brown Tabby       NaN     NaN                  21.0                    0.0  \n",
       "8    Red/White  Neutered  Female                 155.0                    0.0  \n",
       "9        White  Neutered  Female                 365.0                    1.0  "
      ]
     },
     "execution_count": 10,
     "metadata": {},
     "output_type": "execute_result"
    }
   ],
   "source": [
    "train_df['Intact'], train_df['Sex'] = train_df.SexuponOutcome.str.split(' ').str\n",
    "train_df['Intact'] = train_df['Intact'].replace('Unknown', np.nan)\n",
    "train_df['Intact'] = train_df['Intact'].replace('Spayed', 'Neutered')\n",
    "\n",
    "test_df['Intact'], test_df['Sex'] = test_df.SexuponOutcome.str.split(' ').str\n",
    "test_df['Intact'] = test_df['Intact'].replace('Unknown', np.nan)\n",
    "\n",
    "def calc_age_in_days(df):\n",
    "    factor = {'year': 365, 'month': 31, 'week': 7, 'day': 1}\n",
    "    result = []\n",
    "    for age in df.AgeuponOutcome:\n",
    "        if str(age) != 'nan':\n",
    "            value, unit = age.split(' ')\n",
    "            days = int(value) * factor[unit.replace('s', '')] # ignore year[s], month[s], ...\n",
    "            result.append(days)\n",
    "        else:\n",
    "            result.append(np.nan)\n",
    "    df['AgeuponOutcomeInDays'] = result\n",
    "    return df\n",
    "\n",
    "def calc_age_in_years(df):\n",
    "    result = []\n",
    "    for age in df.AgeuponOutcomeInDays:\n",
    "        if str(age) != 'nan':\n",
    "            years = int(age / 365)\n",
    "            result.append(years)\n",
    "        else:\n",
    "            result.append(np.nan)\n",
    "    df['AgeuponOutcomeInYears'] = result\n",
    "    return df\n",
    "\n",
    "train_df = calc_age_in_days(train_df)\n",
    "train_df = calc_age_in_years(train_df)\n",
    "test_df = calc_age_in_days(test_df)\n",
    "test_df = calc_age_in_years(test_df)\n",
    "\n",
    "\n",
    "train_df[5:10]"
   ]
  },
  {
   "cell_type": "code",
   "execution_count": 11,
   "metadata": {
    "collapsed": false
   },
   "outputs": [],
   "source": [
    "def add_year_category(dt):\n",
    "    result = []\n",
    "    age_categories = [['younger than 1 years', 1*365.], \n",
    "                      ['younger than 2 years', 2*365.], \n",
    "                      ['younger than 5 years', 5*365.],\n",
    "                      ['older than 5 years', 990*365.]]\n",
    "    for age in dt.AgeuponOutcomeInDays:\n",
    "        if str(age) == 'nan':\n",
    "            result.append(np.nan)\n",
    "            continue\n",
    "        for limit in age_categories:\n",
    "            if age < limit[1]:\n",
    "                result.append(limit[0])\n",
    "                break\n",
    "        else:\n",
    "            print(age)\n",
    "    return pd.Series(result, name='AgeuponOutcomeCategory')\n",
    "\n",
    "train_df[\"AgeuponOutcomeCategory\"] = add_year_category(train_df)\n",
    "test_df[\"AgeuponOutcomeCategory\"] = add_year_category(test_df)\n"
   ]
  },
  {
   "cell_type": "code",
   "execution_count": 12,
   "metadata": {
    "collapsed": false
   },
   "outputs": [],
   "source": [
    "# Color"
   ]
  },
  {
   "cell_type": "markdown",
   "metadata": {},
   "source": [
    "Split `SexuponOutcome` into `Intact` and `Sex`"
   ]
  },
  {
   "cell_type": "code",
   "execution_count": 13,
   "metadata": {
    "collapsed": false
   },
   "outputs": [],
   "source": [
    "\n",
    "train_df.Breed = train_df.Breed.apply(lambda x: x.split(\"/\")[0])\n",
    "test_df.Breed = test_df.Breed.apply(lambda x: x.split(\"/\")[0])\n",
    "#train_df.Breed = train_df.Breed.astype(\"category\")\n",
    "#test_df.Breed = test_df.Breed.astype(\"category\", categories=train_df.Breed.cat.categories.values.tolist())\n",
    "\n",
    "#train_df[\"BreedValue\"] = train_df.Breed.cat.codes\n",
    "#test_df[\"BreedValue\"] = test_df.Breed.cat.codes\n"
   ]
  },
  {
   "cell_type": "code",
   "execution_count": 14,
   "metadata": {
    "collapsed": false
   },
   "outputs": [
    {
     "ename": "TypeError",
     "evalue": "'DataFrameImputer' object is not subscriptable",
     "output_type": "error",
     "traceback": [
      "\u001b[0;31m---------------------------------------------------------------------------\u001b[0m",
      "\u001b[0;31mTypeError\u001b[0m                                 Traceback (most recent call last)",
      "\u001b[0;32m<ipython-input-14-3d0e4aaa13c2>\u001b[0m in \u001b[0;36m<module>\u001b[0;34m()\u001b[0m\n\u001b[1;32m     27\u001b[0m \u001b[0mbig_X\u001b[0m \u001b[0;34m=\u001b[0m \u001b[0mtrain_df\u001b[0m\u001b[0;34m[\u001b[0m\u001b[0mfeature_columns_to_use\u001b[0m\u001b[0;34m]\u001b[0m\u001b[0;34m.\u001b[0m\u001b[0mappend\u001b[0m\u001b[0;34m(\u001b[0m\u001b[0mtest_df\u001b[0m\u001b[0;34m[\u001b[0m\u001b[0mfeature_columns_to_use\u001b[0m\u001b[0;34m]\u001b[0m\u001b[0;34m)\u001b[0m\u001b[0;34m\u001b[0m\u001b[0m\n\u001b[1;32m     28\u001b[0m \u001b[0mbig_X_imputed\u001b[0m \u001b[0;34m=\u001b[0m \u001b[0mDataFrameImputer\u001b[0m\u001b[0;34m(\u001b[0m\u001b[0;34m)\u001b[0m\u001b[0;34m.\u001b[0m\u001b[0mfit_transform\u001b[0m\u001b[0;34m(\u001b[0m\u001b[0mbig_X\u001b[0m\u001b[0;34m)\u001b[0m\u001b[0;34m\u001b[0m\u001b[0m\n\u001b[0;32m---> 29\u001b[0;31m \u001b[0mbig_X_imputed\u001b[0m\u001b[0;34m[\u001b[0m\u001b[0;36m5\u001b[0m\u001b[0;34m:\u001b[0m\u001b[0;36m10\u001b[0m\u001b[0;34m]\u001b[0m\u001b[0;34m\u001b[0m\u001b[0m\n\u001b[0m",
      "\u001b[0;31mTypeError\u001b[0m: 'DataFrameImputer' object is not subscriptable"
     ]
    }
   ],
   "source": [
    "# We'll impute missing values using the median for numeric columns and the most\n",
    "# common value for string columns.\n",
    "# This is based on some nice code by 'sveitser' at http://stackoverflow.com/a/25562948\n",
    "\n",
    "from sklearn.base import TransformerMixin\n",
    "class DataFrameImputer(TransformerMixin):\n",
    "    def fit(self, X, y=None):\n",
    "        self.fill = pd.Series([X[c].value_counts().index[0]\n",
    "            if X[c].dtype == np.dtype('O') else X[c].median() for c in X],\n",
    "            index=X.columns)\n",
    "        return self\n",
    "    def transform(self, X, y=None):\n",
    "        return X.fillna(self.fill)\n",
    "\n",
    "\n",
    "# feature_columns_to_use = ['AnimalType', 'Sex', 'Intact', 'Breed']\n",
    "feature_columns_to_use = ['AnimalType', 'SexuponOutcome', 'Breed', 'AgeuponOutcomeInDays']  # <- best features so far\n",
    "\n",
    "nonnumeric_columns = feature_columns_to_use\n",
    "\n",
    "# Join the features from train and test together before imputing missing values,\n",
    "# in case their distribution is slightly different\n",
    "# Do we really wanna do this? S/b said this is bad practice for some reason\n",
    "train_df = train_df.reset_index()\n",
    "big_X = train_df[feature_columns_to_use].append(test_df[feature_columns_to_use])\n",
    "big_X_imputed = DataFrameImputer().fit_transform(big_X)\n",
    "big_X_imputed[5:10]"
   ]
  },
  {
   "cell_type": "markdown",
   "metadata": {},
   "source": [
    "Fill in missing fields:\n",
    "* `mean` if column is numeric\n",
    "* `most common value` if not numeric"
   ]
  },
  {
   "cell_type": "code",
   "execution_count": null,
   "metadata": {
    "collapsed": false
   },
   "outputs": [],
   "source": [
    "# See http://scikit-learn.org/stable/modules/preprocessing.html#preprocessing for more\n",
    "# details and options\n",
    "le = LabelEncoder()\n",
    "for feature in nonnumeric_columns:\n",
    "    big_X_imputed[feature] = le.fit_transform(big_X_imputed[feature])\n",
    "\n",
    "# Prepare the inputs for the model\n",
    "train_X = big_X_imputed[0:train_df.shape[0]].as_matrix()\n",
    "test_X = big_X_imputed[train_df.shape[0]::].as_matrix()\n",
    "train_df.OutcomeType = le.fit_transform(train_df.OutcomeType)\n",
    "train_y = train_df['OutcomeType']"
   ]
  },
  {
   "cell_type": "markdown",
   "metadata": {},
   "source": [
    "## Do the actual learning"
   ]
  },
  {
   "cell_type": "code",
   "execution_count": null,
   "metadata": {
    "collapsed": true
   },
   "outputs": [],
   "source": [
    "from sklearn.cross_validation import train_test_split\n",
    "X_train, X_valid, y_train, y_valid = train_test_split(train_X, train_y, test_size=0.01, random_state=10)"
   ]
  },
  {
   "cell_type": "markdown",
   "metadata": {},
   "source": [
    "`train_test_split` is a shorthand to randomly split a training set into train/test data for cross validation. \n",
    "\n",
    "* `test_size`: sets the percentage of data used for the test set.\n",
    "* `random_state`: is used to get reproducible randomness"
   ]
  },
  {
   "cell_type": "code",
   "execution_count": null,
   "metadata": {
    "collapsed": false
   },
   "outputs": [],
   "source": [
    "xgmat = xgb.DMatrix(X_train, label=y_train)  # cross validation training set\n",
    "xgmat_valid = xgb.DMatrix(X_valid, label=y_valid)  # cross validation test set\n",
    "xgmat_test = xgb.DMatrix(test_X)  # the original test set from kaggle"
   ]
  },
  {
   "cell_type": "markdown",
   "metadata": {},
   "source": [
    "transforms our generated cross validation data to a format readable by `xgboost`"
   ]
  },
  {
   "cell_type": "markdown",
   "metadata": {},
   "source": [
    "## Parameters\n",
    "Some information about parameter tweaking: [click](http://www.analyticsvidhya.com/blog/2016/03/complete-guide-parameter-tuning-xgboost-with-codes-python/)\n",
    "\n",
    "### objective\n",
    "Set against which loss function the algorithm should minimize. What we need: Multiclass with probabilities. So we choose `multi:softprob`. This in return needs a parameter `num_class` which indicates the number of differenct classes. In our case thats the number of distinct values for cloumn `OutcomeType`\n",
    "\n",
    "### Others\n",
    "* `eval_metric`: set to `mlogloss`, that is the one kaggle uses\n",
    "* `max_delta_setp`: set to number > 0 to fight imbalanced data sets (http://xgboost.readthedocs.io/en/latest/how_to/param_tuning.html)"
   ]
  },
  {
   "cell_type": "code",
   "execution_count": null,
   "metadata": {
    "collapsed": false
   },
   "outputs": [],
   "source": [
    "# right know these values fall from the sky. No idea what they mean. Needs investigation\n",
    "param = {\n",
    "    'objective': 'multi:softprob',\n",
    "    'num_class': train_df.OutcomeType.nunique(),  # should be 5\n",
    "    'eta': 0.35,     # feature weight shrinkrage: lower -> reduce complexity\n",
    "    'gamma': 0.00,   # loss reduction needed to split a leaf and add another layer: higher -> reduces complexity\n",
    "    'max_depth': 8,  # maximum depth of a tree: higher -> increase complexity\n",
    "#     'min_child_weight': 12,  # minimum number of instances in a leaf: higher -> less complexity\n",
    "    'max_delta_step': 1,    # in logregression a higher value might help with imbalanced classes\n",
    "    'subsample': 0.5,       # randomly select instances from train set to build trees: lower -> less overfitting\n",
    "    'colsample_bytree': 0.5, # subsample colums: lower -> less overfitting\n",
    "    'alpha' : 0,  # regularization weight: higher -> less complex\n",
    "    'scale_pos_weight': 0,  # fight unbalanced classes: sum(negative cases) / sum(positive cases)\n",
    "    'eval_metric' : 'mlogloss',\n",
    "    'silent': 1\n",
    "}"
   ]
  },
  {
   "cell_type": "code",
   "execution_count": null,
   "metadata": {
    "collapsed": false
   },
   "outputs": [],
   "source": [
    "num_round=3000\n",
    "watchlist = [(xgmat, 'train'), (xgmat_valid, 'eval')]\n",
    "gbm = xgb.train(param, xgmat, num_round, watchlist, verbose_eval=50, early_stopping_rounds=100)"
   ]
  },
  {
   "cell_type": "markdown",
   "metadata": {},
   "source": [
    "We don't just simply learn a model but we observe how the precision evolves [more info](http://xgboost.readthedocs.io/en/latest/python/python_intro.html#training)\n",
    "* `early_stopping_rounds`: will stop training if the precision did not improve in the set number of rounds\n",
    "* `watchlist`: contains the parameters to watch while learning\n",
    "\n",
    "__*train() only returns the last model, not necessarily the best one!*__  see [here](http://xgboost.readthedocs.io/en/latest/python/python_intro.html#prediction)"
   ]
  },
  {
   "cell_type": "code",
   "execution_count": null,
   "metadata": {
    "collapsed": false
   },
   "outputs": [],
   "source": [
    "xgb.plot_importance(gbm)"
   ]
  },
  {
   "cell_type": "code",
   "execution_count": null,
   "metadata": {
    "collapsed": false
   },
   "outputs": [],
   "source": [
    "xgb.to_graphviz(gbm, num_trees=2)  # needs graphviz: 'sudo apt-get install graphviz' and 'pip3 install graphviz'"
   ]
  },
  {
   "cell_type": "markdown",
   "metadata": {},
   "source": [
    "## Predict and save as Kaggel"
   ]
  },
  {
   "cell_type": "code",
   "execution_count": null,
   "metadata": {
    "collapsed": false
   },
   "outputs": [],
   "source": [
    "predictions = gbm.predict(xgmat_test, ntree_limit=gbm.best_ntree_limit)"
   ]
  },
  {
   "cell_type": "code",
   "execution_count": null,
   "metadata": {
    "collapsed": false
   },
   "outputs": [],
   "source": [
    "# to kaggle format\n",
    "submission_df = pd.DataFrame(predictions)\n",
    "submission_df = pd.concat([test_df.ID, submission_df], axis=1)\n",
    "submission_df.ID = submission_df.ID.astype(int)\n",
    "submission_df.set_index('ID', inplace=True)\n",
    "submission_df.columns = le.inverse_transform(sorted(train_df.OutcomeType.unique()))  # get the string labels back\n",
    "submission_df.head()"
   ]
  },
  {
   "cell_type": "code",
   "execution_count": null,
   "metadata": {
    "collapsed": false
   },
   "outputs": [],
   "source": [
    "submission_df.to_csv('submission.csv')\n",
    "assert 11456 == len(submission_df)"
   ]
  },
  {
   "cell_type": "code",
   "execution_count": null,
   "metadata": {
    "collapsed": false
   },
   "outputs": [],
   "source": [
    "import os, time\n",
    "(mode, ino, dev, nlink, uid, gid, size, atime, mtime, ctime) = os.stat('submission.csv')\n",
    "print(\"last modified: %s\" % time.ctime(mtime))"
   ]
  },
  {
   "cell_type": "code",
   "execution_count": null,
   "metadata": {
    "collapsed": true
   },
   "outputs": [],
   "source": []
  }
 ],
 "metadata": {
  "kernelspec": {
   "display_name": "Python 3",
   "language": "python",
   "name": "python3"
  },
  "language_info": {
   "codemirror_mode": {
    "name": "ipython",
    "version": 3
   },
   "file_extension": ".py",
   "mimetype": "text/x-python",
   "name": "python",
   "nbconvert_exporter": "python",
   "pygments_lexer": "ipython3",
   "version": "3.5.1"
  }
 },
 "nbformat": 4,
 "nbformat_minor": 0
}
