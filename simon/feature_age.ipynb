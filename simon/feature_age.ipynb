{
 "cells": [
  {
   "cell_type": "code",
   "execution_count": 7,
   "metadata": {
    "collapsed": true
   },
   "outputs": [],
   "source": [
    "import sys\n",
    "\n",
    "import pandas as pd\n",
    "from pandas import DataFrame, Series\n",
    "\n",
    "import numpy as np\n",
    "\n",
    "import matplotlib.pyplot as plt\n",
    "import matplotlib\n",
    "\n",
    "from sklearn import tree\n",
    "from sklearn.ensemble import RandomForestClassifier \n",
    "\n",
    "%matplotlib inline"
   ]
  },
  {
   "cell_type": "code",
   "execution_count": 8,
   "metadata": {
    "collapsed": false
   },
   "outputs": [],
   "source": [
    "train = pd.read_csv(\"../data/train.csv\", index_col=0)\n",
    "test = pd.read_csv(\"../data/test.csv\", index_col=0)\n",
    "opt = train.copy()"
   ]
  },
  {
   "cell_type": "code",
   "execution_count": 9,
   "metadata": {
    "collapsed": true
   },
   "outputs": [],
   "source": [
    "factor = {'year': 365, 'month': 31, 'week': 7, 'day': 1}\n",
    "result = []\n",
    "for age in opt.AgeuponOutcome:\n",
    "    if str(age) == 'nan':\n",
    "        result.append(np.nan)\n",
    "        continue\n",
    "    value, unit = age.split(' ')\n",
    "    days = int(value) * factor[unit.replace('s', '')] # ignore year[s], month[s], ...\n",
    "    result.append(days)\n",
    "opt.AgeuponOutcomeInDays = pd.Series(result)\n",
    "assert len(opt.AgeuponOutcomeInDays) == len(opt.AgeuponOutcome)"
   ]
  },
  {
   "cell_type": "code",
   "execution_count": 10,
   "metadata": {
    "collapsed": false
   },
   "outputs": [
    {
     "data": {
      "text/plain": [
       "younger than 1 years    11890\n",
       "younger than 5 years     6636\n",
       "older than 5 years       4216\n",
       "younger than 2 years     3969\n",
       "dtype: int64"
      ]
     },
     "execution_count": 10,
     "metadata": {},
     "output_type": "execute_result"
    }
   ],
   "source": [
    "result = []\n",
    "age_categories = [['younger than 1 years', 1*365.], \n",
    "                  ['younger than 2 years', 2*365.], \n",
    "                  ['younger than 5 years', 5*365.],\n",
    "                  ['older than 5 years', 990*365.]]\n",
    "for age in opt.AgeuponOutcomeInDays:\n",
    "    if str(age) == 'nan':\n",
    "        result.append(np.nan)\n",
    "        continue\n",
    "    for limit in age_categories:\n",
    "        if age < limit[1]:\n",
    "            result.append(limit[0])\n",
    "            break\n",
    "    else:\n",
    "        print(age)\n",
    "opt.AgeuponOutcomeCategory = pd.Series(result)\n",
    "opt.AgeuponOutcomeCategory = opt.AgeuponOutcomeCategory.astype(\"category\")\n",
    "assert len(opt.AgeuponOutcomeCategory) == len(opt.AgeuponOutcome)\n",
    "opt.AgeuponOutcomeCategory.value_counts()"
   ]
  },
  {
   "cell_type": "code",
   "execution_count": null,
   "metadata": {
    "collapsed": true
   },
   "outputs": [],
   "source": []
  }
 ],
 "metadata": {
  "kernelspec": {
   "display_name": "Python 3",
   "language": "python",
   "name": "python3"
  },
  "language_info": {
   "codemirror_mode": {
    "name": "ipython",
    "version": 3
   },
   "file_extension": ".py",
   "mimetype": "text/x-python",
   "name": "python",
   "nbconvert_exporter": "python",
   "pygments_lexer": "ipython3",
   "version": "3.5.1"
  }
 },
 "nbformat": 4,
 "nbformat_minor": 0
}
