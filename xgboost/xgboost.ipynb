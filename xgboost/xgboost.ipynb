{
 "cells": [
  {
   "cell_type": "code",
   "execution_count": 58,
   "metadata": {
    "collapsed": false
   },
   "outputs": [],
   "source": [
    "# adapted version of https://www.kaggle.com/cbrogan/titanic/xgboost-example-python/code\n",
    "import pandas as pd\n",
    "import xgboost as xgb\n",
    "from sklearn.preprocessing import LabelEncoder\n",
    "import numpy as np\n",
    "%matplotlib inline\n",
    "\n",
    "# Load the data\n",
    "train_df = pd.read_csv('../data/train.csv', header=0)\n",
    "test_df = pd.read_csv('../data/test.csv', header=0)\n",
    "\n",
    "col_labels = train_df.OutcomeType.unique()\n",
    "\n",
    "\n",
    "# We'll impute missing values using the median for numeric columns and the most\n",
    "# common value for string columns.\n",
    "# This is based on some nice code by 'sveitser' at http://stackoverflow.com/a/25562948\n",
    "from sklearn.base import TransformerMixin\n",
    "class DataFrameImputer(TransformerMixin):\n",
    "    def fit(self, X, y=None):\n",
    "        self.fill = pd.Series([X[c].value_counts().index[0]\n",
    "            if X[c].dtype == np.dtype('O') else X[c].median() for c in X],\n",
    "            index=X.columns)\n",
    "        return self\n",
    "    def transform(self, X, y=None):\n",
    "        return X.fillna(self.fill)\n",
    "\n",
    "feature_columns_to_use = ['AnimalType', 'SexuponOutcome']\n",
    "nonnumeric_columns = ['AnimalType', 'SexuponOutcome']\n",
    "\n",
    "# Join the features from train and test together before imputing missing values,\n",
    "# in case their distribution is slightly different\n",
    "# Do we really wanna do this? S/b said this is bad practice for some reason\n",
    "big_X = train_df[feature_columns_to_use].append(test_df[feature_columns_to_use])\n",
    "big_X_imputed = DataFrameImputer().fit_transform(big_X)\n",
    "\n",
    "# XGBoost doesn't (yet) handle categorical features automatically, so we need to change\n",
    "# them to columns of integer values.\n",
    "# See http://scikit-learn.org/stable/modules/preprocessing.html#preprocessing for more\n",
    "# details and options\n",
    "le = LabelEncoder()\n",
    "for feature in nonnumeric_columns:\n",
    "    big_X_imputed[feature] = le.fit_transform(big_X_imputed[feature])\n",
    "\n",
    "# Prepare the inputs for the model\n",
    "train_X = big_X_imputed[0:train_df.shape[0]].as_matrix()\n",
    "test_X = big_X_imputed[train_df.shape[0]::].as_matrix()\n",
    "train_df.OutcomeType = le.fit_transform(train_df.OutcomeType)\n",
    "train_y = train_df['OutcomeType']"
   ]
  },
  {
   "cell_type": "markdown",
   "metadata": {},
   "source": [
    "## Parameters\n",
    "Some information about parameter tweaking: [click](http://www.analyticsvidhya.com/blog/2016/03/complete-guide-parameter-tuning-xgboost-with-codes-python/)\n",
    "\n",
    "### Objective\n",
    "Set against which loss function the algorithm should minimize. What we need: Multiclass with probabilities. So we choose `multi:softprob`. This in return needs a parameter `num_class` which indicates the number of differenct classes. In our case thats the number of distinct values for cloumn `OutcomeType`"
   ]
  },
  {
   "cell_type": "code",
   "execution_count": 59,
   "metadata": {
    "collapsed": false
   },
   "outputs": [],
   "source": [
    "# right know these values fall from the sky. No idea what they mean. Needs investigation\n",
    "param = {\n",
    "    'objective': 'multi:softprob',\n",
    "    'num_class': train_df.OutcomeType.nunique(),  # should be 5\n",
    "#     'eta': 0.05,\n",
    "#     'max_depth': 8,\n",
    "#     'min_child_weight': 8,\n",
    "#     'eval_metric' : 'auc',\n",
    "#     'silent': 1,\n",
    "#     'seed':1,\n",
    "#     'subsample': 0.5,\n",
    "#     'colsample_bytree' : 0.5,\n",
    "#     'alpha' : 4\n",
    "}"
   ]
  },
  {
   "cell_type": "markdown",
   "metadata": {},
   "source": [
    "## Do the actual learning"
   ]
  },
  {
   "cell_type": "code",
   "execution_count": 60,
   "metadata": {
    "collapsed": true
   },
   "outputs": [],
   "source": [
    "num_round=100\n",
    "from sklearn.cross_validation import train_test_split\n",
    "X_train, X_valid, y_train, y_valid = train_test_split(train_X, train_y, test_size=0.01, random_state=10)"
   ]
  },
  {
   "cell_type": "markdown",
   "metadata": {},
   "source": [
    "`train_test_split` is a shorthand to randomly split a training set into train/test data for cross validation. \n",
    "\n",
    "* `test_size`: sets the percentage of data used for the test set.\n",
    "* `random_state`: is used to get reproducible randomness"
   ]
  },
  {
   "cell_type": "code",
   "execution_count": 61,
   "metadata": {
    "collapsed": true
   },
   "outputs": [],
   "source": [
    "xgmat = xgb.DMatrix(X_train, label=y_train)  # cross validation training set\n",
    "xgmat_valid = xgb.DMatrix(X_valid, label=y_valid)  # cross validation test set\n",
    "xgmat_test = xgb.DMatrix(test_X)  # the original test set from kaggle"
   ]
  },
  {
   "cell_type": "markdown",
   "metadata": {},
   "source": [
    "transforms our generated cross validation data to a format readable by `xgboost`"
   ]
  },
  {
   "cell_type": "code",
   "execution_count": 62,
   "metadata": {
    "collapsed": false
   },
   "outputs": [
    {
     "name": "stderr",
     "output_type": "stream",
     "text": [
      "[0]\teval-merror:0,425373\ttrain-merror:0,391822\n",
      "[1]\teval-merror:0,425373\ttrain-merror:0,391822\n",
      "[2]\teval-merror:0,425373\ttrain-merror:0,391822\n",
      "[3]\teval-merror:0,425373\ttrain-merror:0,391822\n",
      "[4]\teval-merror:0,425373\ttrain-merror:0,391822\n",
      "[5]\teval-merror:0,425373\ttrain-merror:0,391822\n",
      "[6]\teval-merror:0,425373\ttrain-merror:0,391822\n",
      "[7]\teval-merror:0,425373\ttrain-merror:0,391822\n",
      "[8]\teval-merror:0,425373\ttrain-merror:0,391822\n",
      "[9]\teval-merror:0,425373\ttrain-merror:0,391822\n",
      "[10]\teval-merror:0,425373\ttrain-merror:0,391822\n",
      "[11]\teval-merror:0,425373\ttrain-merror:0,391822\n",
      "[12]\teval-merror:0,425373\ttrain-merror:0,391822\n",
      "[13]\teval-merror:0,425373\ttrain-merror:0,391822\n",
      "[14]\teval-merror:0,425373\ttrain-merror:0,391822\n",
      "[15]\teval-merror:0,425373\ttrain-merror:0,391822\n",
      "[16]\teval-merror:0,425373\ttrain-merror:0,391822\n",
      "[17]\teval-merror:0,425373\ttrain-merror:0,391822\n",
      "[18]\teval-merror:0,425373\ttrain-merror:0,391822\n",
      "[19]\teval-merror:0,425373\ttrain-merror:0,391822\n",
      "[20]\teval-merror:0,425373\ttrain-merror:0,391822\n",
      "[21]\teval-merror:0,425373\ttrain-merror:0,391822\n",
      "[22]\teval-merror:0,425373\ttrain-merror:0,391822\n",
      "[23]\teval-merror:0,425373\ttrain-merror:0,391822\n",
      "[24]\teval-merror:0,425373\ttrain-merror:0,391822\n",
      "[25]\teval-merror:0,425373\ttrain-merror:0,391822\n",
      "[26]\teval-merror:0,425373\ttrain-merror:0,391822\n",
      "[27]\teval-merror:0,425373\ttrain-merror:0,391822\n",
      "[28]\teval-merror:0,425373\ttrain-merror:0,391822\n",
      "[29]\teval-merror:0,425373\ttrain-merror:0,391822\n",
      "[30]\teval-merror:0,425373\ttrain-merror:0,391822\n",
      "[31]\teval-merror:0,425373\ttrain-merror:0,391822\n",
      "[32]\teval-merror:0,425373\ttrain-merror:0,391822\n",
      "[33]\teval-merror:0,425373\ttrain-merror:0,391822\n",
      "[34]\teval-merror:0,425373\ttrain-merror:0,391822\n",
      "[35]\teval-merror:0,425373\ttrain-merror:0,391822\n",
      "[36]\teval-merror:0,425373\ttrain-merror:0,391822\n",
      "[37]\teval-merror:0,425373\ttrain-merror:0,391822\n",
      "[38]\teval-merror:0,425373\ttrain-merror:0,391822\n",
      "[39]\teval-merror:0,425373\ttrain-merror:0,391822\n",
      "[40]\teval-merror:0,425373\ttrain-merror:0,391822\n",
      "[41]\teval-merror:0,425373\ttrain-merror:0,391822\n",
      "[42]\teval-merror:0,425373\ttrain-merror:0,391822\n",
      "[43]\teval-merror:0,425373\ttrain-merror:0,391822\n",
      "[44]\teval-merror:0,425373\ttrain-merror:0,391822\n",
      "[45]\teval-merror:0,425373\ttrain-merror:0,391822\n",
      "[46]\teval-merror:0,425373\ttrain-merror:0,391822\n",
      "[47]\teval-merror:0,425373\ttrain-merror:0,391822\n",
      "[48]\teval-merror:0,425373\ttrain-merror:0,391822\n",
      "[49]\teval-merror:0,425373\ttrain-merror:0,391822\n",
      "[50]\teval-merror:0,425373\ttrain-merror:0,391822\n",
      "[51]\teval-merror:0,425373\ttrain-merror:0,391822\n",
      "[52]\teval-merror:0,425373\ttrain-merror:0,391822\n",
      "[53]\teval-merror:0,425373\ttrain-merror:0,391822\n",
      "[54]\teval-merror:0,425373\ttrain-merror:0,391822\n",
      "[55]\teval-merror:0,425373\ttrain-merror:0,391822\n",
      "[56]\teval-merror:0,425373\ttrain-merror:0,391822\n",
      "[57]\teval-merror:0,425373\ttrain-merror:0,391822\n",
      "[58]\teval-merror:0,425373\ttrain-merror:0,391822\n",
      "[59]\teval-merror:0,425373\ttrain-merror:0,391822\n",
      "[60]\teval-merror:0,425373\ttrain-merror:0,391822\n",
      "[61]\teval-merror:0,425373\ttrain-merror:0,391822\n",
      "[62]\teval-merror:0,425373\ttrain-merror:0,391822\n",
      "[63]\teval-merror:0,425373\ttrain-merror:0,391822\n",
      "[64]\teval-merror:0,425373\ttrain-merror:0,391822\n",
      "[65]\teval-merror:0,425373\ttrain-merror:0,391822\n",
      "[66]\teval-merror:0,425373\ttrain-merror:0,391822\n",
      "[67]\teval-merror:0,425373\ttrain-merror:0,391822\n",
      "[68]\teval-merror:0,425373\ttrain-merror:0,391822\n",
      "[69]\teval-merror:0,425373\ttrain-merror:0,391822\n",
      "[70]\teval-merror:0,425373\ttrain-merror:0,391822\n",
      "[71]\teval-merror:0,425373\ttrain-merror:0,391822\n",
      "[72]\teval-merror:0,425373\ttrain-merror:0,391822\n",
      "[73]\teval-merror:0,425373\ttrain-merror:0,391822\n",
      "[74]\teval-merror:0,425373\ttrain-merror:0,391822\n",
      "[75]\teval-merror:0,425373\ttrain-merror:0,391822\n",
      "[76]\teval-merror:0,425373\ttrain-merror:0,391822\n",
      "[77]\teval-merror:0,425373\ttrain-merror:0,391822\n",
      "[78]\teval-merror:0,425373\ttrain-merror:0,391822\n",
      "[79]\teval-merror:0,425373\ttrain-merror:0,391822\n",
      "[80]\teval-merror:0,425373\ttrain-merror:0,391822\n",
      "[81]\teval-merror:0,425373\ttrain-merror:0,391822\n",
      "[82]\teval-merror:0,425373\ttrain-merror:0,391822\n",
      "[83]\teval-merror:0,425373\ttrain-merror:0,391822\n",
      "[84]\teval-merror:0,425373\ttrain-merror:0,391822\n",
      "[85]\teval-merror:0,425373\ttrain-merror:0,391822\n",
      "[86]\teval-merror:0,425373\ttrain-merror:0,391822\n",
      "[87]\teval-merror:0,425373\ttrain-merror:0,391822\n",
      "[88]\teval-merror:0,425373\ttrain-merror:0,391822\n",
      "[89]\teval-merror:0,425373\ttrain-merror:0,391822\n",
      "[90]\teval-merror:0,425373\ttrain-merror:0,391822\n",
      "[91]\teval-merror:0,425373\ttrain-merror:0,391822\n",
      "[92]\teval-merror:0,425373\ttrain-merror:0,391822\n",
      "[93]\teval-merror:0,425373\ttrain-merror:0,391822\n",
      "[94]\teval-merror:0,425373\ttrain-merror:0,391822\n",
      "[95]\teval-merror:0,425373\ttrain-merror:0,391822\n",
      "[96]\teval-merror:0,425373\ttrain-merror:0,391822\n",
      "[97]\teval-merror:0,425373\ttrain-merror:0,391822\n",
      "[98]\teval-merror:0,425373\ttrain-merror:0,391822\n",
      "[99]\teval-merror:0,425373\ttrain-merror:0,391822\n"
     ]
    }
   ],
   "source": [
    "watchlist = [(xgmat_valid, 'eval'),(xgmat, 'train')]\n",
    "\n",
    "gbm = xgb.train(param, xgmat, num_round, watchlist, early_stopping_rounds=0)"
   ]
  },
  {
   "cell_type": "markdown",
   "metadata": {},
   "source": [
    "We don't just simply learn a model but we observe how the precision evolves [more info](http://xgboost.readthedocs.io/en/latest/python/python_intro.html#training)\n",
    "* `early_stopping_rounds`: will stop training if the precision did not improve in the set number of rounds\n",
    "* `watchlist`: contains the parameters to watch while learning\n",
    "\n",
    "__*train() only returns the last model, not necessarily the best one!*__  see [here](http://xgboost.readthedocs.io/en/latest/python/python_intro.html#prediction)"
   ]
  },
  {
   "cell_type": "code",
   "execution_count": 63,
   "metadata": {
    "collapsed": false
   },
   "outputs": [
    {
     "data": {
      "text/plain": [
       "<matplotlib.axes._subplots.AxesSubplot at 0x7f2e372f0160>"
      ]
     },
     "execution_count": 63,
     "metadata": {},
     "output_type": "execute_result"
    },
    {
     "data": {
      "image/png": "[encoded data removed]",
      "text/plain": [
       "<matplotlib.figure.Figure at 0x7f2e36e1c2b0>"
      ]
     },
     "metadata": {},
     "output_type": "display_data"
    }
   ],
   "source": [
    "xgb.plot_importance(gbm)"
   ]
  },
  {
   "cell_type": "code",
   "execution_count": 64,
   "metadata": {
    "collapsed": false
   },
   "outputs": [
    {
     "data": {
      "image/svg+xml": [
       "<?xml version=\"1.0\" encoding=\"UTF-8\" standalone=\"no\"?>\n",
       "<!DOCTYPE svg PUBLIC \"-//W3C//DTD SVG 1.1//EN\"\n",
       " \"http://www.w3.org/Graphics/SVG/1.1/DTD/svg11.dtd\">\n",
       "<!-- Generated by graphviz version 2.38.0 (20140413.2041)\n",
       " -->\n",
       "<!-- Title: %3 Pages: 1 -->\n",
       "<svg width=\"966pt\" height=\"549pt\"\n",
       " viewBox=\"0.00 0.00 966.00 549.27\" xmlns=\"http://www.w3.org/2000/svg\" xmlns:xlink=\"http://www.w3.org/1999/xlink\">\n",
       "<g id=\"graph0\" class=\"graph\" transform=\"scale(1 1) rotate(0) translate(4 545.269)\">\n",
       "<title>%3</title>\n",
       "<polygon fill=\"white\" stroke=\"none\" points=\"-4,4 -4,-545.269 962,-545.269 962,4 -4,4\"/>\n",
       "<!-- 0 -->\n",
       "<g id=\"node1\" class=\"node\"><title>0</title>\n",
       "<ellipse fill=\"none\" stroke=\"black\" cx=\"477.5\" cy=\"-506.822\" rx=\"34.394\" ry=\"34.394\"/>\n",
       "<text text-anchor=\"middle\" x=\"477.5\" y=\"-503.122\" font-family=\"Times,serif\" font-size=\"14.00\">f1&lt;1.5</text>\n",
       "</g>\n",
       "<!-- 1 -->\n",
       "<g id=\"node2\" class=\"node\"><title>1</title>\n",
       "<ellipse fill=\"none\" stroke=\"black\" cx=\"388.5\" cy=\"-350.531\" rx=\"70.6878\" ry=\"70.6878\"/>\n",
       "<text text-anchor=\"middle\" x=\"388.5\" y=\"-346.831\" font-family=\"Times,serif\" font-size=\"14.00\">f0&lt;&#45;1.00136e&#45;05</text>\n",
       "</g>\n",
       "<!-- 0&#45;&gt;1 -->\n",
       "<g id=\"edge1\" class=\"edge\"><title>0&#45;&gt;1</title>\n",
       "<path fill=\"none\" stroke=\"#0000ff\" d=\"M452.889,-482.413C445.04,-474.081 436.773,-464.292 430.5,-454.375 425.07,-445.79 420.097,-436.385 415.622,-426.86\"/>\n",
       "<polygon fill=\"#0000ff\" stroke=\"#0000ff\" points=\"418.795,-425.383 411.486,-417.714 412.417,-428.268 418.795,-425.383\"/>\n",
       "<text text-anchor=\"middle\" x=\"465\" y=\"-443.175\" font-family=\"Times,serif\" font-size=\"14.00\">yes, missing</text>\n",
       "</g>\n",
       "<!-- 2 -->\n",
       "<g id=\"node3\" class=\"node\"><title>2</title>\n",
       "<ellipse fill=\"none\" stroke=\"black\" cx=\"550.5\" cy=\"-350.531\" rx=\"34.394\" ry=\"34.394\"/>\n",
       "<text text-anchor=\"middle\" x=\"550.5\" y=\"-346.831\" font-family=\"Times,serif\" font-size=\"14.00\">f1&lt;3.5</text>\n",
       "</g>\n",
       "<!-- 0&#45;&gt;2 -->\n",
       "<g id=\"edge2\" class=\"edge\"><title>0&#45;&gt;2</title>\n",
       "<path fill=\"none\" stroke=\"#ff0000\" d=\"M491.922,-475.339C503.321,-451.248 519.32,-417.433 531.718,-391.229\"/>\n",
       "<polygon fill=\"#ff0000\" stroke=\"#ff0000\" points=\"534.994,-392.487 536.108,-381.951 528.667,-389.493 534.994,-392.487\"/>\n",
       "<text text-anchor=\"middle\" x=\"514.5\" y=\"-443.175\" font-family=\"Times,serif\" font-size=\"14.00\">no</text>\n",
       "</g>\n",
       "<!-- 3 -->\n",
       "<g id=\"node4\" class=\"node\"><title>3</title>\n",
       "<ellipse fill=\"none\" stroke=\"black\" cx=\"178.5\" cy=\"-157.844\" rx=\"51.9908\" ry=\"51.9908\"/>\n",
       "<text text-anchor=\"middle\" x=\"178.5\" y=\"-154.144\" font-family=\"Times,serif\" font-size=\"14.00\">f1&lt;2.00001</text>\n",
       "</g>\n",
       "<!-- 1&#45;&gt;3 -->\n",
       "<g id=\"edge3\" class=\"edge\"><title>1&#45;&gt;3</title>\n",
       "<path fill=\"none\" stroke=\"#0000ff\" d=\"M336.32,-302.15C301.908,-270.903 257.261,-230.362 224.24,-200.378\"/>\n",
       "<polygon fill=\"#0000ff\" stroke=\"#0000ff\" points=\"226.29,-197.511 216.534,-193.38 221.585,-202.694 226.29,-197.511\"/>\n",
       "<text text-anchor=\"middle\" x=\"325\" y=\"-250.487\" font-family=\"Times,serif\" font-size=\"14.00\">yes, missing</text>\n",
       "</g>\n",
       "<!-- 4 -->\n",
       "<g id=\"node5\" class=\"node\"><title>4</title>\n",
       "<ellipse fill=\"none\" stroke=\"black\" cx=\"388.5\" cy=\"-157.844\" rx=\"51.9908\" ry=\"51.9908\"/>\n",
       "<text text-anchor=\"middle\" x=\"388.5\" y=\"-154.144\" font-family=\"Times,serif\" font-size=\"14.00\">f1&lt;2.00001</text>\n",
       "</g>\n",
       "<!-- 1&#45;&gt;4 -->\n",
       "<g id=\"edge4\" class=\"edge\"><title>1&#45;&gt;4</title>\n",
       "<path fill=\"none\" stroke=\"#ff0000\" d=\"M388.5,-279.609C388.5,-260.057 388.5,-238.967 388.5,-219.967\"/>\n",
       "<polygon fill=\"#ff0000\" stroke=\"#ff0000\" points=\"392,-219.946 388.5,-209.946 385,-219.946 392,-219.946\"/>\n",
       "<text text-anchor=\"middle\" x=\"395.5\" y=\"-250.487\" font-family=\"Times,serif\" font-size=\"14.00\">no</text>\n",
       "</g>\n",
       "<!-- 5 -->\n",
       "<g id=\"node10\" class=\"node\"><title>5</title>\n",
       "<ellipse fill=\"none\" stroke=\"black\" cx=\"550.5\" cy=\"-157.844\" rx=\"34.394\" ry=\"34.394\"/>\n",
       "<text text-anchor=\"middle\" x=\"550.5\" y=\"-154.144\" font-family=\"Times,serif\" font-size=\"14.00\">f1&lt;2.5</text>\n",
       "</g>\n",
       "<!-- 2&#45;&gt;5 -->\n",
       "<g id=\"edge9\" class=\"edge\"><title>2&#45;&gt;5</title>\n",
       "<path fill=\"none\" stroke=\"#0000ff\" d=\"M550.5,-315.879C550.5,-284.388 550.5,-237.162 550.5,-202.725\"/>\n",
       "<polygon fill=\"#0000ff\" stroke=\"#0000ff\" points=\"554,-202.48 550.5,-192.48 547,-202.48 554,-202.48\"/>\n",
       "<text text-anchor=\"middle\" x=\"560\" y=\"-250.487\" font-family=\"Times,serif\" font-size=\"14.00\">yes</text>\n",
       "</g>\n",
       "<!-- 6 -->\n",
       "<g id=\"node11\" class=\"node\"><title>6</title>\n",
       "<ellipse fill=\"none\" stroke=\"black\" cx=\"788.5\" cy=\"-157.844\" rx=\"70.6878\" ry=\"70.6878\"/>\n",
       "<text text-anchor=\"middle\" x=\"788.5\" y=\"-154.144\" font-family=\"Times,serif\" font-size=\"14.00\">f0&lt;&#45;1.00136e&#45;05</text>\n",
       "</g>\n",
       "<!-- 2&#45;&gt;6 -->\n",
       "<g id=\"edge10\" class=\"edge\"><title>2&#45;&gt;6</title>\n",
       "<path fill=\"none\" stroke=\"#ff0000\" d=\"M577.339,-328.028C613.038,-299.425 677.248,-247.979 725.522,-209.302\"/>\n",
       "<polygon fill=\"#ff0000\" stroke=\"#ff0000\" points=\"727.813,-211.952 733.428,-202.967 723.436,-206.489 727.813,-211.952\"/>\n",
       "<text text-anchor=\"middle\" x=\"709.5\" y=\"-250.487\" font-family=\"Times,serif\" font-size=\"14.00\">no, missing</text>\n",
       "</g>\n",
       "<!-- 7 -->\n",
       "<g id=\"node6\" class=\"node\"><title>7</title>\n",
       "<polygon fill=\"none\" stroke=\"black\" points=\"107,-36 0,-36 0,-0 107,-0 107,-36\"/>\n",
       "<text text-anchor=\"middle\" x=\"53.5\" y=\"-14.3\" font-family=\"Times,serif\" font-size=\"14.00\">leaf=&#45;0.0756633</text>\n",
       "</g>\n",
       "<!-- 3&#45;&gt;7 -->\n",
       "<g id=\"edge5\" class=\"edge\"><title>3&#45;&gt;7</title>\n",
       "<path fill=\"none\" stroke=\"#0000ff\" d=\"M144.012,-118.812C122.226,-94.7873 94.7135,-64.4481 75.7725,-43.561\"/>\n",
       "<polygon fill=\"#0000ff\" stroke=\"#0000ff\" points=\"78.2729,-41.108 68.9626,-36.0514 73.0875,-45.8103 78.2729,-41.108\"/>\n",
       "<text text-anchor=\"middle\" x=\"107\" y=\"-57.8\" font-family=\"Times,serif\" font-size=\"14.00\">yes</text>\n",
       "</g>\n",
       "<!-- 8 -->\n",
       "<g id=\"node7\" class=\"node\"><title>8</title>\n",
       "<polygon fill=\"none\" stroke=\"black\" points=\"232,-36 125,-36 125,-0 232,-0 232,-36\"/>\n",
       "<text text-anchor=\"middle\" x=\"178.5\" y=\"-14.3\" font-family=\"Times,serif\" font-size=\"14.00\">leaf=&#45;0.0964714</text>\n",
       "</g>\n",
       "<!-- 3&#45;&gt;8 -->\n",
       "<g id=\"edge6\" class=\"edge\"><title>3&#45;&gt;8</title>\n",
       "<path fill=\"none\" stroke=\"#ff0000\" d=\"M178.5,-105.516C178.5,-85.4228 178.5,-63.1917 178.5,-46.2965\"/>\n",
       "<polygon fill=\"#ff0000\" stroke=\"#ff0000\" points=\"182,-46.0406 178.5,-36.0406 175,-46.0406 182,-46.0406\"/>\n",
       "<text text-anchor=\"middle\" x=\"210.5\" y=\"-57.8\" font-family=\"Times,serif\" font-size=\"14.00\">no, missing</text>\n",
       "</g>\n",
       "<!-- 9 -->\n",
       "<g id=\"node8\" class=\"node\"><title>9</title>\n",
       "<polygon fill=\"none\" stroke=\"black\" points=\"357,-36 250,-36 250,-0 357,-0 357,-36\"/>\n",
       "<text text-anchor=\"middle\" x=\"303.5\" y=\"-14.3\" font-family=\"Times,serif\" font-size=\"14.00\">leaf=&#45;0.0420957</text>\n",
       "</g>\n",
       "<!-- 4&#45;&gt;9 -->\n",
       "<g id=\"edge7\" class=\"edge\"><title>4&#45;&gt;9</title>\n",
       "<path fill=\"none\" stroke=\"#0000ff\" d=\"M361.605,-113.229C347.666,-90.6228 331.124,-63.7984 319.263,-44.5621\"/>\n",
       "<polygon fill=\"#0000ff\" stroke=\"#0000ff\" points=\"322.236,-42.7154 314.008,-36.0406 316.278,-46.3895 322.236,-42.7154\"/>\n",
       "<text text-anchor=\"middle\" x=\"343\" y=\"-57.8\" font-family=\"Times,serif\" font-size=\"14.00\">yes</text>\n",
       "</g>\n",
       "<!-- 10 -->\n",
       "<g id=\"node9\" class=\"node\"><title>10</title>\n",
       "<polygon fill=\"none\" stroke=\"black\" points=\"482,-36 375,-36 375,-0 482,-0 482,-36\"/>\n",
       "<text text-anchor=\"middle\" x=\"428.5\" y=\"-14.3\" font-family=\"Times,serif\" font-size=\"14.00\">leaf=&#45;0.0581984</text>\n",
       "</g>\n",
       "<!-- 4&#45;&gt;10 -->\n",
       "<g id=\"edge8\" class=\"edge\"><title>4&#45;&gt;10</title>\n",
       "<path fill=\"none\" stroke=\"#ff0000\" d=\"M402.828,-107.468C408.806,-86.8687 415.52,-63.7295 420.583,-46.2836\"/>\n",
       "<polygon fill=\"#ff0000\" stroke=\"#ff0000\" points=\"424.074,-46.8096 423.5,-36.2303 417.352,-44.8587 424.074,-46.8096\"/>\n",
       "<text text-anchor=\"middle\" x=\"450.5\" y=\"-57.8\" font-family=\"Times,serif\" font-size=\"14.00\">no, missing</text>\n",
       "</g>\n",
       "<!-- 11 -->\n",
       "<g id=\"node12\" class=\"node\"><title>11</title>\n",
       "<polygon fill=\"none\" stroke=\"black\" points=\"601,-36 500,-36 500,-0 601,-0 601,-36\"/>\n",
       "<text text-anchor=\"middle\" x=\"550.5\" y=\"-14.3\" font-family=\"Times,serif\" font-size=\"14.00\">leaf=&#45;0.154352</text>\n",
       "</g>\n",
       "<!-- 5&#45;&gt;11 -->\n",
       "<g id=\"edge11\" class=\"edge\"><title>5&#45;&gt;11</title>\n",
       "<path fill=\"none\" stroke=\"#0000ff\" d=\"M550.5,-123.123C550.5,-99.4239 550.5,-68.1336 550.5,-46.0624\"/>\n",
       "<polygon fill=\"#0000ff\" stroke=\"#0000ff\" points=\"554,-46.0416 550.5,-36.0417 547,-46.0417 554,-46.0416\"/>\n",
       "<text text-anchor=\"middle\" x=\"560\" y=\"-57.8\" font-family=\"Times,serif\" font-size=\"14.00\">yes</text>\n",
       "</g>\n",
       "<!-- 12 -->\n",
       "<g id=\"node13\" class=\"node\"><title>12</title>\n",
       "<polygon fill=\"none\" stroke=\"black\" points=\"720,-36 619,-36 619,-0 720,-0 720,-36\"/>\n",
       "<text text-anchor=\"middle\" x=\"669.5\" y=\"-14.3\" font-family=\"Times,serif\" font-size=\"14.00\">leaf=&#45;0.162629</text>\n",
       "</g>\n",
       "<!-- 5&#45;&gt;12 -->\n",
       "<g id=\"edge12\" class=\"edge\"><title>5&#45;&gt;12</title>\n",
       "<path fill=\"none\" stroke=\"#ff0000\" d=\"M572.604,-131.239C594.102,-106.337 626.554,-68.7467 647.884,-44.0386\"/>\n",
       "<polygon fill=\"#ff0000\" stroke=\"#ff0000\" points=\"650.774,-46.0468 654.66,-36.1901 645.476,-41.4725 650.774,-46.0468\"/>\n",
       "<text text-anchor=\"middle\" x=\"670.5\" y=\"-57.8\" font-family=\"Times,serif\" font-size=\"14.00\">no, missing</text>\n",
       "</g>\n",
       "<!-- 13 -->\n",
       "<g id=\"node14\" class=\"node\"><title>13</title>\n",
       "<polygon fill=\"none\" stroke=\"black\" points=\"839,-36 738,-36 738,-0 839,-0 839,-36\"/>\n",
       "<text text-anchor=\"middle\" x=\"788.5\" y=\"-14.3\" font-family=\"Times,serif\" font-size=\"14.00\">leaf=&#45;0.105084</text>\n",
       "</g>\n",
       "<!-- 6&#45;&gt;13 -->\n",
       "<g id=\"edge13\" class=\"edge\"><title>6&#45;&gt;13</title>\n",
       "<path fill=\"none\" stroke=\"#0000ff\" d=\"M788.5,-86.7104C788.5,-72.2489 788.5,-57.8586 788.5,-46.0872\"/>\n",
       "<polygon fill=\"#0000ff\" stroke=\"#0000ff\" points=\"792,-46.086 788.5,-36.0861 785,-46.0861 792,-46.086\"/>\n",
       "<text text-anchor=\"middle\" x=\"823\" y=\"-57.8\" font-family=\"Times,serif\" font-size=\"14.00\">yes, missing</text>\n",
       "</g>\n",
       "<!-- 14 -->\n",
       "<g id=\"node15\" class=\"node\"><title>14</title>\n",
       "<polygon fill=\"none\" stroke=\"black\" points=\"958,-36 857,-36 857,-0 958,-0 958,-36\"/>\n",
       "<text text-anchor=\"middle\" x=\"907.5\" y=\"-14.3\" font-family=\"Times,serif\" font-size=\"14.00\">leaf=&#45;0.049763</text>\n",
       "</g>\n",
       "<!-- 6&#45;&gt;14 -->\n",
       "<g id=\"edge14\" class=\"edge\"><title>6&#45;&gt;14</title>\n",
       "<path fill=\"none\" stroke=\"#ff0000\" d=\"M834.509,-103.55C852.27,-82.9761 871.724,-60.4413 886.079,-43.8135\"/>\n",
       "<polygon fill=\"#ff0000\" stroke=\"#ff0000\" points=\"888.801,-46.0165 892.686,-36.1598 883.502,-41.4421 888.801,-46.0165\"/>\n",
       "<text text-anchor=\"middle\" x=\"883.5\" y=\"-57.8\" font-family=\"Times,serif\" font-size=\"14.00\">no</text>\n",
       "</g>\n",
       "</g>\n",
       "</svg>\n"
      ],
      "text/plain": [
       "<graphviz.dot.Digraph at 0x7f2e37514be0>"
      ]
     },
     "execution_count": 64,
     "metadata": {},
     "output_type": "execute_result"
    }
   ],
   "source": [
    "xgb.to_graphviz(gbm, num_trees=2)  # needs graphviz: 'sudo apt-get install graphviz' and 'pip3 install graphviz'"
   ]
  },
  {
   "cell_type": "markdown",
   "metadata": {},
   "source": [
    "## Predict and save as Kaggel"
   ]
  },
  {
   "cell_type": "code",
   "execution_count": 65,
   "metadata": {
    "collapsed": false
   },
   "outputs": [
    {
     "name": "stderr",
     "output_type": "stream",
     "text": [
      "/usr/local/lib/python3.5/dist-packages/xgboost/core.py:840: VisibleDeprecationWarning: using a non-integer number instead of an integer will result in an error in the future\n",
      "  preds = preds.reshape(nrow, preds.size / nrow)\n"
     ]
    },
    {
     "data": {
      "text/plain": [
       "array([[ 0.04349564,  0.01159232,  0.13774991,  0.20307361,  0.60408849],\n",
       "       [ 0.54317087,  0.00122114,  0.02715367,  0.26365417,  0.16480018],\n",
       "       [ 0.65207964,  0.00296791,  0.03558032,  0.08269881,  0.22667336],\n",
       "       ..., \n",
       "       [ 0.06724813,  0.01911447,  0.09698601,  0.00860181,  0.80804956],\n",
       "       [ 0.4804523 ,  0.00150354,  0.03517972,  0.29615515,  0.18670927],\n",
       "       [ 0.03782395,  0.00945825,  0.15500048,  0.29110247,  0.50661486]], dtype=float32)"
      ]
     },
     "execution_count": 65,
     "metadata": {},
     "output_type": "execute_result"
    }
   ],
   "source": [
    "predictions = gbm.predict(xgmat_test)\n",
    "\n",
    "predictions"
   ]
  },
  {
   "cell_type": "code",
   "execution_count": 66,
   "metadata": {
    "collapsed": false
   },
   "outputs": [
    {
     "data": {
      "text/html": [
       "<div>\n",
       "<table border=\"1\" class=\"dataframe\">\n",
       "  <thead>\n",
       "    <tr style=\"text-align: right;\">\n",
       "      <th></th>\n",
       "      <th>Adoption</th>\n",
       "      <th>Died</th>\n",
       "      <th>Euthanasia</th>\n",
       "      <th>Return_to_owner</th>\n",
       "      <th>Transfer</th>\n",
       "    </tr>\n",
       "    <tr>\n",
       "      <th>ID</th>\n",
       "      <th></th>\n",
       "      <th></th>\n",
       "      <th></th>\n",
       "      <th></th>\n",
       "      <th></th>\n",
       "    </tr>\n",
       "  </thead>\n",
       "  <tbody>\n",
       "    <tr>\n",
       "      <th>1</th>\n",
       "      <td>0.043496</td>\n",
       "      <td>0.011592</td>\n",
       "      <td>0.137750</td>\n",
       "      <td>0.203074</td>\n",
       "      <td>0.604088</td>\n",
       "    </tr>\n",
       "    <tr>\n",
       "      <th>2</th>\n",
       "      <td>0.543171</td>\n",
       "      <td>0.001221</td>\n",
       "      <td>0.027154</td>\n",
       "      <td>0.263654</td>\n",
       "      <td>0.164800</td>\n",
       "    </tr>\n",
       "    <tr>\n",
       "      <th>3</th>\n",
       "      <td>0.652080</td>\n",
       "      <td>0.002968</td>\n",
       "      <td>0.035580</td>\n",
       "      <td>0.082699</td>\n",
       "      <td>0.226673</td>\n",
       "    </tr>\n",
       "    <tr>\n",
       "      <th>4</th>\n",
       "      <td>0.037824</td>\n",
       "      <td>0.009458</td>\n",
       "      <td>0.155000</td>\n",
       "      <td>0.291102</td>\n",
       "      <td>0.506615</td>\n",
       "    </tr>\n",
       "    <tr>\n",
       "      <th>5</th>\n",
       "      <td>0.480452</td>\n",
       "      <td>0.001504</td>\n",
       "      <td>0.035180</td>\n",
       "      <td>0.296155</td>\n",
       "      <td>0.186709</td>\n",
       "    </tr>\n",
       "  </tbody>\n",
       "</table>\n",
       "</div>"
      ],
      "text/plain": [
       "    Adoption      Died  Euthanasia  Return_to_owner  Transfer\n",
       "ID                                                           \n",
       "1   0.043496  0.011592    0.137750         0.203074  0.604088\n",
       "2   0.543171  0.001221    0.027154         0.263654  0.164800\n",
       "3   0.652080  0.002968    0.035580         0.082699  0.226673\n",
       "4   0.037824  0.009458    0.155000         0.291102  0.506615\n",
       "5   0.480452  0.001504    0.035180         0.296155  0.186709"
      ]
     },
     "execution_count": 66,
     "metadata": {},
     "output_type": "execute_result"
    }
   ],
   "source": [
    "# to kaggle format\n",
    "submission_df = pd.DataFrame(predictions)\n",
    "submission_df = pd.concat([test_df.ID, submission_df], axis=1)\n",
    "submission_df.ID = submission_df.ID.astype(int)\n",
    "submission_df.set_index('ID', inplace=True)\n",
    "submission_df.columns = le.inverse_transform(sorted(train_df.OutcomeType.unique()))  # get the string labels back\n",
    "submission_df.head()"
   ]
  },
  {
   "cell_type": "code",
   "execution_count": 67,
   "metadata": {
    "collapsed": false
   },
   "outputs": [
    {
     "data": {
      "text/plain": [
       "11456"
      ]
     },
     "execution_count": 67,
     "metadata": {},
     "output_type": "execute_result"
    }
   ],
   "source": [
    "submission_df.to_csv('submission.csv')\n",
    "len(submission_df)"
   ]
  }
 ],
 "metadata": {
  "kernelspec": {
   "display_name": "Python 3",
   "language": "python",
   "name": "python3"
  },
  "language_info": {
   "codemirror_mode": {
    "name": "ipython",
    "version": 3
   },
   "file_extension": ".py",
   "mimetype": "text/x-python",
   "name": "python",
   "nbconvert_exporter": "python",
   "pygments_lexer": "ipython3",
   "version": "3.5.1+"
  }
 },
 "nbformat": 4,
 "nbformat_minor": 0
}
