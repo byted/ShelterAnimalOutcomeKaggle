{
 "cells": [
  {
   "cell_type": "code",
   "execution_count": 6,
   "metadata": {
    "collapsed": false
   },
   "outputs": [
    {
     "data": {
      "text/html": [
       "<div>\n",
       "<table border=\"1\" class=\"dataframe\">\n",
       "  <thead>\n",
       "    <tr style=\"text-align: right;\">\n",
       "      <th></th>\n",
       "      <th>ID</th>\n",
       "      <th>Adoption</th>\n",
       "      <th>Died</th>\n",
       "      <th>Euthanasia</th>\n",
       "      <th>Return_to_owner</th>\n",
       "      <th>Transfer</th>\n",
       "    </tr>\n",
       "  </thead>\n",
       "  <tbody>\n",
       "    <tr>\n",
       "      <th>0</th>\n",
       "      <td>1</td>\n",
       "      <td>0.033404</td>\n",
       "      <td>0.004338</td>\n",
       "      <td>0.028173</td>\n",
       "      <td>0.104236</td>\n",
       "      <td>0.829849</td>\n",
       "    </tr>\n",
       "    <tr>\n",
       "      <th>1</th>\n",
       "      <td>2</td>\n",
       "      <td>0.566699</td>\n",
       "      <td>0.004277</td>\n",
       "      <td>0.036855</td>\n",
       "      <td>0.263001</td>\n",
       "      <td>0.129167</td>\n",
       "    </tr>\n",
       "    <tr>\n",
       "      <th>2</th>\n",
       "      <td>3</td>\n",
       "      <td>0.406086</td>\n",
       "      <td>0.004150</td>\n",
       "      <td>0.033778</td>\n",
       "      <td>0.085895</td>\n",
       "      <td>0.470090</td>\n",
       "    </tr>\n",
       "    <tr>\n",
       "      <th>3</th>\n",
       "      <td>4</td>\n",
       "      <td>0.049436</td>\n",
       "      <td>0.005010</td>\n",
       "      <td>0.072668</td>\n",
       "      <td>0.031631</td>\n",
       "      <td>0.841255</td>\n",
       "    </tr>\n",
       "    <tr>\n",
       "      <th>4</th>\n",
       "      <td>5</td>\n",
       "      <td>0.503743</td>\n",
       "      <td>0.003362</td>\n",
       "      <td>0.021713</td>\n",
       "      <td>0.283018</td>\n",
       "      <td>0.188163</td>\n",
       "    </tr>\n",
       "  </tbody>\n",
       "</table>\n",
       "</div>"
      ],
      "text/plain": [
       "   ID  Adoption      Died  Euthanasia  Return_to_owner  Transfer\n",
       "0   1  0.033404  0.004338    0.028173         0.104236  0.829849\n",
       "1   2  0.566699  0.004277    0.036855         0.263001  0.129167\n",
       "2   3  0.406086  0.004150    0.033778         0.085895  0.470090\n",
       "3   4  0.049436  0.005010    0.072668         0.031631  0.841255\n",
       "4   5  0.503743  0.003362    0.021713         0.283018  0.188163"
      ]
     },
     "execution_count": 6,
     "metadata": {},
     "output_type": "execute_result"
    }
   ],
   "source": [
    "import pandas as pd\n",
    "\n",
    "infiles = ['rand_forest_result.csv', 'xgboost_result.csv']\n",
    "\n",
    "dfs = [pd.read_csv(fn) for fn in infiles]\n",
    "\n",
    "dfs[1].head()"
   ]
  },
  {
   "cell_type": "code",
   "execution_count": 4,
   "metadata": {
    "collapsed": false
   },
   "outputs": [
    {
     "data": {
      "text/html": [
       "<div>\n",
       "<table border=\"1\" class=\"dataframe\">\n",
       "  <thead>\n",
       "    <tr style=\"text-align: right;\">\n",
       "      <th></th>\n",
       "      <th>Adoption</th>\n",
       "      <th>Died</th>\n",
       "      <th>Euthanasia</th>\n",
       "      <th>Return_to_owner</th>\n",
       "      <th>Transfer</th>\n",
       "    </tr>\n",
       "    <tr>\n",
       "      <th>ID</th>\n",
       "      <th></th>\n",
       "      <th></th>\n",
       "      <th></th>\n",
       "      <th></th>\n",
       "      <th></th>\n",
       "    </tr>\n",
       "  </thead>\n",
       "  <tbody>\n",
       "    <tr>\n",
       "      <th>1</th>\n",
       "      <td>0.016702</td>\n",
       "      <td>0.002169</td>\n",
       "      <td>0.025920</td>\n",
       "      <td>0.090348</td>\n",
       "      <td>0.864861</td>\n",
       "    </tr>\n",
       "    <tr>\n",
       "      <th>2</th>\n",
       "      <td>0.554437</td>\n",
       "      <td>0.002139</td>\n",
       "      <td>0.037037</td>\n",
       "      <td>0.297726</td>\n",
       "      <td>0.108662</td>\n",
       "    </tr>\n",
       "    <tr>\n",
       "      <th>3</th>\n",
       "      <td>0.538088</td>\n",
       "      <td>0.004503</td>\n",
       "      <td>0.033955</td>\n",
       "      <td>0.077955</td>\n",
       "      <td>0.345500</td>\n",
       "    </tr>\n",
       "    <tr>\n",
       "      <th>4</th>\n",
       "      <td>0.024718</td>\n",
       "      <td>0.002505</td>\n",
       "      <td>0.335338</td>\n",
       "      <td>0.028551</td>\n",
       "      <td>0.608889</td>\n",
       "    </tr>\n",
       "    <tr>\n",
       "      <th>5</th>\n",
       "      <td>0.506472</td>\n",
       "      <td>0.001681</td>\n",
       "      <td>0.010857</td>\n",
       "      <td>0.292147</td>\n",
       "      <td>0.188844</td>\n",
       "    </tr>\n",
       "  </tbody>\n",
       "</table>\n",
       "</div>"
      ],
      "text/plain": [
       "    Adoption      Died  Euthanasia  Return_to_owner  Transfer\n",
       "ID                                                           \n",
       "1   0.016702  0.002169    0.025920         0.090348  0.864861\n",
       "2   0.554437  0.002139    0.037037         0.297726  0.108662\n",
       "3   0.538088  0.004503    0.033955         0.077955  0.345500\n",
       "4   0.024718  0.002505    0.335338         0.028551  0.608889\n",
       "5   0.506472  0.001681    0.010857         0.292147  0.188844"
      ]
     },
     "execution_count": 4,
     "metadata": {},
     "output_type": "execute_result"
    }
   ],
   "source": [
    "merge = pd.concat(dfs).groupby('ID').mean()\n",
    "merge.head()"
   ]
  },
  {
   "cell_type": "code",
   "execution_count": 7,
   "metadata": {
    "collapsed": true
   },
   "outputs": [],
   "source": [
    "merge.to_csv('merged.csv')"
   ]
  }
 ],
 "metadata": {
  "kernelspec": {
   "display_name": "Python 3",
   "language": "python",
   "name": "python3"
  },
  "language_info": {
   "codemirror_mode": {
    "name": "ipython",
    "version": 3
   },
   "file_extension": ".py",
   "mimetype": "text/x-python",
   "name": "python",
   "nbconvert_exporter": "python",
   "pygments_lexer": "ipython3",
   "version": "3.5.1+"
  }
 },
 "nbformat": 4,
 "nbformat_minor": 0
}
