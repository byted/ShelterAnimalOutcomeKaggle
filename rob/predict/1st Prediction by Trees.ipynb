{
 "cells": [
  {
   "cell_type": "markdown",
   "metadata": {},
   "source": [
    "## Python loading"
   ]
  },
  {
   "cell_type": "code",
   "execution_count": 194,
   "metadata": {
    "collapsed": false
   },
   "outputs": [],
   "source": [
    "import sys\n",
    "\n",
    "import pandas as pd\n",
    "from pandas import DataFrame, Series\n",
    "\n",
    "import numpy as np\n",
    "\n",
    "import matplotlib.pyplot as plt\n",
    "import matplotlib\n",
    "\n",
    "#import xgboost as xgb\n",
    "\n",
    "from sklearn import tree\n",
    "from sklearn.ensemble import RandomForestClassifier \n",
    "\n",
    "%matplotlib inline"
   ]
  },
  {
   "cell_type": "code",
   "execution_count": 195,
   "metadata": {
    "collapsed": false
   },
   "outputs": [
    {
     "data": {
      "text/html": [
       "<div>\n",
       "<table border=\"1\" class=\"dataframe\">\n",
       "  <thead>\n",
       "    <tr style=\"text-align: right;\">\n",
       "      <th></th>\n",
       "      <th>Name</th>\n",
       "      <th>DateTime</th>\n",
       "      <th>OutcomeType</th>\n",
       "      <th>OutcomeSubtype</th>\n",
       "      <th>AnimalType</th>\n",
       "      <th>SexuponOutcome</th>\n",
       "      <th>AgeuponOutcome</th>\n",
       "      <th>Breed</th>\n",
       "      <th>Color</th>\n",
       "    </tr>\n",
       "    <tr>\n",
       "      <th>AnimalID</th>\n",
       "      <th></th>\n",
       "      <th></th>\n",
       "      <th></th>\n",
       "      <th></th>\n",
       "      <th></th>\n",
       "      <th></th>\n",
       "      <th></th>\n",
       "      <th></th>\n",
       "      <th></th>\n",
       "    </tr>\n",
       "  </thead>\n",
       "  <tbody>\n",
       "    <tr>\n",
       "      <th>A671945</th>\n",
       "      <td>Hambone</td>\n",
       "      <td>2014-02-12 18:22:00</td>\n",
       "      <td>Return_to_owner</td>\n",
       "      <td>NaN</td>\n",
       "      <td>Dog</td>\n",
       "      <td>Neutered Male</td>\n",
       "      <td>1 year</td>\n",
       "      <td>Shetland Sheepdog Mix</td>\n",
       "      <td>Brown/White</td>\n",
       "    </tr>\n",
       "    <tr>\n",
       "      <th>A656520</th>\n",
       "      <td>Emily</td>\n",
       "      <td>2013-10-13 12:44:00</td>\n",
       "      <td>Euthanasia</td>\n",
       "      <td>Suffering</td>\n",
       "      <td>Cat</td>\n",
       "      <td>Spayed Female</td>\n",
       "      <td>1 year</td>\n",
       "      <td>Domestic Shorthair Mix</td>\n",
       "      <td>Cream Tabby</td>\n",
       "    </tr>\n",
       "  </tbody>\n",
       "</table>\n",
       "</div>"
      ],
      "text/plain": [
       "             Name             DateTime      OutcomeType OutcomeSubtype  \\\n",
       "AnimalID                                                                 \n",
       "A671945   Hambone  2014-02-12 18:22:00  Return_to_owner            NaN   \n",
       "A656520     Emily  2013-10-13 12:44:00       Euthanasia      Suffering   \n",
       "\n",
       "         AnimalType SexuponOutcome AgeuponOutcome                   Breed  \\\n",
       "AnimalID                                                                    \n",
       "A671945         Dog  Neutered Male         1 year   Shetland Sheepdog Mix   \n",
       "A656520         Cat  Spayed Female         1 year  Domestic Shorthair Mix   \n",
       "\n",
       "                Color  \n",
       "AnimalID               \n",
       "A671945   Brown/White  \n",
       "A656520   Cream Tabby  "
      ]
     },
     "execution_count": 195,
     "metadata": {},
     "output_type": "execute_result"
    }
   ],
   "source": [
    "train = pd.read_csv(\"../../data/train.csv\", index_col=0)\n",
    "test = pd.read_csv(\"../../data/test.csv\", index_col=0)\n",
    "\n",
    "train.head(2)"
   ]
  },
  {
   "cell_type": "code",
   "execution_count": 196,
   "metadata": {
    "collapsed": false
   },
   "outputs": [
    {
     "data": {
      "text/plain": [
       "Bella          113\n",
       "Max            112\n",
       "Charlie         89\n",
       "Daisy           86\n",
       "Buddy           78\n",
       "Rocky           77\n",
       "Lucy            76\n",
       "Princess        72\n",
       "Lola            53\n",
       "Chico           53\n",
       "Jack            51\n",
       "Sadie           51\n",
       "Luna            50\n",
       "Coco            48\n",
       "Lucky           45\n",
       "Shadow          44\n",
       "Lady            44\n",
       "Duke            44\n",
       "Blue            43\n",
       "Maggie          41\n",
       "Molly           40\n",
       "Toby            39\n",
       "Cookie          38\n",
       "Bear            37\n",
       "Sasha           37\n",
       "Rosie           37\n",
       "Diamond         36\n",
       "Roxy            35\n",
       "Buster          34\n",
       "Ginger          33\n",
       "              ... \n",
       "Mr Bentley       1\n",
       "Truly            1\n",
       "Normal           1\n",
       "Hatch            1\n",
       "Teah             1\n",
       "Camillo          1\n",
       "Ms. Scott        1\n",
       "Juni             1\n",
       "Marcos           1\n",
       "Rojo             1\n",
       "Luna Bella       1\n",
       "Stefani          1\n",
       "Zu Zu            1\n",
       "Sheri            1\n",
       "Julius           1\n",
       "Copperfield      1\n",
       "Mozzy            1\n",
       "Indio            1\n",
       "Mumble           1\n",
       "Neva             1\n",
       "Korg             1\n",
       "Emmie Lou        1\n",
       "Sia              1\n",
       "Bug              1\n",
       "Flint            1\n",
       "Passion          1\n",
       "Cola             1\n",
       "Kibo             1\n",
       "Potter           1\n",
       "Flecha           1\n",
       "Name: Name, dtype: int64"
      ]
     },
     "execution_count": 196,
     "metadata": {},
     "output_type": "execute_result"
    }
   ],
   "source": [
    "train[train.AnimalType == \"Dog\"].Name.value_counts()"
   ]
  },
  {
   "cell_type": "markdown",
   "metadata": {},
   "source": [
    "## Data fitting"
   ]
  },
  {
   "cell_type": "code",
   "execution_count": 197,
   "metadata": {
    "collapsed": false
   },
   "outputs": [
    {
     "data": {
      "text/plain": [
       "Neutered Male    9779\n",
       "Spayed Female    8820\n",
       "Intact Male      3525\n",
       "Intact Female    3511\n",
       "Unknown          1093\n",
       "Name: SexuponOutcome, dtype: int64"
      ]
     },
     "execution_count": 197,
     "metadata": {},
     "output_type": "execute_result"
    }
   ],
   "source": [
    "train.SexuponOutcome.value_counts()"
   ]
  },
  {
   "cell_type": "code",
   "execution_count": 198,
   "metadata": {
    "collapsed": false
   },
   "outputs": [],
   "source": [
    "train = pd.read_csv(\"../../data/train.csv\", index_col=0)\n",
    "test = pd.read_csv(\"../../data/test.csv\", index_col=0)\n",
    "\n",
    "def replaceing(dataset):\n",
    "    opt = dataset.copy()\n",
    "\n",
    "    opt[\"Intact\"] = opt.SexuponOutcome.replace(\"Intact Male\", \"Yes\")\n",
    "    opt.Intact = opt.Intact.replace(\"Neutered Male\", \"No\")\n",
    "    opt.Intact = opt.Intact.replace(\"Spayed Female\", \"No\")\n",
    "    opt.Intact = opt.Intact.replace(\"Intact Female\", \"Yes\")\n",
    "    opt.Intact = opt.Intact.replace(\"Unknown\", np.nan)\n",
    "\n",
    "    opt.SexuponOutcome = opt.SexuponOutcome.replace(\"Neutered Male\", \"Male\")\n",
    "    opt.SexuponOutcome = opt.SexuponOutcome.replace(\"Intact Male\", \"Male\")\n",
    "    opt.SexuponOutcome = opt.SexuponOutcome.replace(\"Spayed Female\", \"Female\")\n",
    "    opt.SexuponOutcome = opt.SexuponOutcome.replace(\"Intact Female\", \"Female\")\n",
    "    opt.SexuponOutcome = opt.SexuponOutcome.replace(\"Unknown\", np.nan)\n",
    "\n",
    "    return opt\n",
    "\n",
    "train = replaceing(train)\n",
    "test = replaceing(test)\n"
   ]
  },
  {
   "cell_type": "markdown",
   "metadata": {},
   "source": [
    "## Data categorising"
   ]
  },
  {
   "cell_type": "code",
   "execution_count": 199,
   "metadata": {
    "collapsed": true
   },
   "outputs": [],
   "source": [
    "train.Intact = train.Intact.astype(\"category\")\n",
    "train[\"IntactValue\"] = train.Intact.cat.codes\n",
    "test.Intact = test.Intact.astype(\"category\", train.Intact.cat.categories.values.tolist())\n",
    "test[\"IntactValue\"] = test.Intact.cat.codes\n",
    "\n",
    "train.SexuponOutcome = train.SexuponOutcome.astype(\"category\")\n",
    "train[\"SexuponOutcomeValue\"] = train.SexuponOutcome.cat.codes\n",
    "test.SexuponOutcome = test.SexuponOutcome.astype(\"category\", train.SexuponOutcome.cat.categories.values.tolist())\n",
    "test[\"SexuponOutcomeValue\"] = test.SexuponOutcome.cat.codes\n",
    "\n",
    "train.OutcomeType = train.OutcomeType.astype(\"category\")"
   ]
  },
  {
   "cell_type": "code",
   "execution_count": 200,
   "metadata": {
    "collapsed": false
   },
   "outputs": [
    {
     "data": {
      "text/plain": [
       "57"
      ]
     },
     "execution_count": 200,
     "metadata": {},
     "output_type": "execute_result"
    }
   ],
   "source": [
    "train.Color = train.Color.apply(lambda x: x.split(\"/\")[0])\n",
    "test.Color = test.Color.apply(lambda x: x.split(\"/\")[0])\n",
    "len(train.Color.value_counts())"
   ]
  },
  {
   "cell_type": "code",
   "execution_count": 201,
   "metadata": {
    "collapsed": false
   },
   "outputs": [],
   "source": [
    "train.Color = train.Color.astype(\"category\")\n",
    "train[\"ColorValue\"] = train.Color.cat.codes\n",
    "\n",
    "test.Color = test.Color.astype(\"category\", categories=train.Color.cat.categories.values.tolist())\n",
    "test[\"ColorValue\"] = test.Color.cat.codes"
   ]
  },
  {
   "cell_type": "code",
   "execution_count": 202,
   "metadata": {
    "collapsed": false
   },
   "outputs": [
    {
     "data": {
      "text/html": [
       "<div>\n",
       "<table border=\"1\" class=\"dataframe\">\n",
       "  <thead>\n",
       "    <tr style=\"text-align: right;\">\n",
       "      <th></th>\n",
       "      <th>Name</th>\n",
       "      <th>DateTime</th>\n",
       "      <th>AnimalType</th>\n",
       "      <th>SexuponOutcome</th>\n",
       "      <th>AgeuponOutcome</th>\n",
       "      <th>Breed</th>\n",
       "      <th>Color</th>\n",
       "      <th>Intact</th>\n",
       "      <th>IntactValue</th>\n",
       "      <th>SexuponOutcomeValue</th>\n",
       "      <th>ColorValue</th>\n",
       "    </tr>\n",
       "    <tr>\n",
       "      <th>ID</th>\n",
       "      <th></th>\n",
       "      <th></th>\n",
       "      <th></th>\n",
       "      <th></th>\n",
       "      <th></th>\n",
       "      <th></th>\n",
       "      <th></th>\n",
       "      <th></th>\n",
       "      <th></th>\n",
       "      <th></th>\n",
       "      <th></th>\n",
       "    </tr>\n",
       "  </thead>\n",
       "  <tbody>\n",
       "    <tr>\n",
       "      <th>1</th>\n",
       "      <td>Summer</td>\n",
       "      <td>2015-10-12 12:15:00</td>\n",
       "      <td>Dog</td>\n",
       "      <td>Female</td>\n",
       "      <td>10 months</td>\n",
       "      <td>Labrador Retriever Mix</td>\n",
       "      <td>Red</td>\n",
       "      <td>Yes</td>\n",
       "      <td>1</td>\n",
       "      <td>0</td>\n",
       "      <td>40</td>\n",
       "    </tr>\n",
       "  </tbody>\n",
       "</table>\n",
       "</div>"
      ],
      "text/plain": [
       "      Name             DateTime AnimalType SexuponOutcome AgeuponOutcome  \\\n",
       "ID                                                                         \n",
       "1   Summer  2015-10-12 12:15:00        Dog         Female      10 months   \n",
       "\n",
       "                     Breed Color Intact  IntactValue  SexuponOutcomeValue  \\\n",
       "ID                                                                          \n",
       "1   Labrador Retriever Mix   Red    Yes            1                    0   \n",
       "\n",
       "    ColorValue  \n",
       "ID              \n",
       "1           40  "
      ]
     },
     "execution_count": 202,
     "metadata": {},
     "output_type": "execute_result"
    }
   ],
   "source": [
    "test[test.Color == \"Red\"].head(1)"
   ]
  },
  {
   "cell_type": "code",
   "execution_count": 203,
   "metadata": {
    "collapsed": false
   },
   "outputs": [
    {
     "data": {
      "text/html": [
       "<div>\n",
       "<table border=\"1\" class=\"dataframe\">\n",
       "  <thead>\n",
       "    <tr style=\"text-align: right;\">\n",
       "      <th></th>\n",
       "      <th>Name</th>\n",
       "      <th>DateTime</th>\n",
       "      <th>OutcomeType</th>\n",
       "      <th>OutcomeSubtype</th>\n",
       "      <th>AnimalType</th>\n",
       "      <th>SexuponOutcome</th>\n",
       "      <th>AgeuponOutcome</th>\n",
       "      <th>Breed</th>\n",
       "      <th>Color</th>\n",
       "      <th>Intact</th>\n",
       "      <th>IntactValue</th>\n",
       "      <th>SexuponOutcomeValue</th>\n",
       "      <th>ColorValue</th>\n",
       "    </tr>\n",
       "    <tr>\n",
       "      <th>AnimalID</th>\n",
       "      <th></th>\n",
       "      <th></th>\n",
       "      <th></th>\n",
       "      <th></th>\n",
       "      <th></th>\n",
       "      <th></th>\n",
       "      <th></th>\n",
       "      <th></th>\n",
       "      <th></th>\n",
       "      <th></th>\n",
       "      <th></th>\n",
       "      <th></th>\n",
       "      <th></th>\n",
       "    </tr>\n",
       "  </thead>\n",
       "  <tbody>\n",
       "    <tr>\n",
       "      <th>A671784</th>\n",
       "      <td>Lucy</td>\n",
       "      <td>2014-02-04 17:17:00</td>\n",
       "      <td>Adoption</td>\n",
       "      <td>NaN</td>\n",
       "      <td>Dog</td>\n",
       "      <td>Female</td>\n",
       "      <td>5 months</td>\n",
       "      <td>American Pit Bull Terrier Mix</td>\n",
       "      <td>Red</td>\n",
       "      <td>No</td>\n",
       "      <td>0</td>\n",
       "      <td>0</td>\n",
       "      <td>40</td>\n",
       "    </tr>\n",
       "  </tbody>\n",
       "</table>\n",
       "</div>"
      ],
      "text/plain": [
       "          Name             DateTime OutcomeType OutcomeSubtype AnimalType  \\\n",
       "AnimalID                                                                    \n",
       "A671784   Lucy  2014-02-04 17:17:00    Adoption            NaN        Dog   \n",
       "\n",
       "         SexuponOutcome AgeuponOutcome                          Breed Color  \\\n",
       "AnimalID                                                                      \n",
       "A671784          Female       5 months  American Pit Bull Terrier Mix   Red   \n",
       "\n",
       "         Intact  IntactValue  SexuponOutcomeValue  ColorValue  \n",
       "AnimalID                                                       \n",
       "A671784      No            0                    0          40  "
      ]
     },
     "execution_count": 203,
     "metadata": {},
     "output_type": "execute_result"
    }
   ],
   "source": [
    "train[train.Color==\"Red\"].head(1)"
   ]
  },
  {
   "cell_type": "code",
   "execution_count": 204,
   "metadata": {
    "collapsed": false
   },
   "outputs": [
    {
     "data": {
      "text/plain": [
       "AnimalID\n",
       "A671945    1\n",
       "A656520    0\n",
       "A686464    1\n",
       "A683430    1\n",
       "A667013    1\n",
       "dtype: int8"
      ]
     },
     "execution_count": 204,
     "metadata": {},
     "output_type": "execute_result"
    }
   ],
   "source": [
    "train.head(5).SexuponOutcome.cat.codes"
   ]
  },
  {
   "cell_type": "code",
   "execution_count": 205,
   "metadata": {
    "collapsed": true
   },
   "outputs": [],
   "source": [
    "#train.Breed = train.Breed.str.replace(\" Mix\", \"\")\n",
    "train.Breed = train.Breed.apply(lambda x: x.split(\"/\")[0])\n",
    "test.Breed = test.Breed.apply(lambda x: x.split(\"/\")[0])"
   ]
  },
  {
   "cell_type": "code",
   "execution_count": 206,
   "metadata": {
    "collapsed": false
   },
   "outputs": [],
   "source": [
    "train.Breed = train.Breed.astype(\"category\")\n",
    "test.Breed = test.Breed.astype(\"category\", categories=train.Breed.cat.categories.values.tolist())\n",
    "\n",
    "train[\"BreedValue\"] = train.Breed.cat.codes\n",
    "test[\"BreedValue\"] = test.Breed.cat.codes"
   ]
  },
  {
   "cell_type": "markdown",
   "metadata": {
    "collapsed": false
   },
   "source": [
    "## Prediction"
   ]
  },
  {
   "cell_type": "code",
   "execution_count": 207,
   "metadata": {
    "collapsed": false
   },
   "outputs": [],
   "source": [
    "#create and train the random forest\n",
    "    #multi-core CPUs can use: rf = RandomForestClassifier(n_estimators=100, n_jobs=2)\n",
    "rf = RandomForestClassifier(n_estimators=100, n_jobs=-1)\n",
    "\n",
    "d_train = train[[\"SexuponOutcomeValue\", \"IntactValue\", \"ColorValue\", \"BreedValue\"]].values\n",
    "\n",
    "#d_train\n",
    "d_target = train.OutcomeType.cat.codes.values"
   ]
  },
  {
   "cell_type": "code",
   "execution_count": 208,
   "metadata": {
    "collapsed": false
   },
   "outputs": [
    {
     "data": {
      "text/plain": [
       "RandomForestClassifier(bootstrap=True, class_weight=None, criterion='gini',\n",
       "            max_depth=None, max_features='auto', max_leaf_nodes=None,\n",
       "            min_samples_leaf=1, min_samples_split=2,\n",
       "            min_weight_fraction_leaf=0.0, n_estimators=100, n_jobs=-1,\n",
       "            oob_score=False, random_state=None, verbose=0,\n",
       "            warm_start=False)"
      ]
     },
     "execution_count": 208,
     "metadata": {},
     "output_type": "execute_result"
    }
   ],
   "source": [
    "d_train\n",
    "\n",
    "\n",
    "rf.fit(d_train, d_target)\n",
    "\n",
    "\n",
    "#d_train.reshape(-1, 1)"
   ]
  },
  {
   "cell_type": "code",
   "execution_count": null,
   "metadata": {
    "collapsed": false
   },
   "outputs": [],
   "source": [
    "myTest = test.copy()\n",
    "\n",
    "stopCounter = 100\n",
    "\n",
    "result = None #DataFrame(columns=[\"ID\", \"Adoption\", \"Died\", ])\n",
    "\n",
    "predictOn = myTest[['SexuponOutcomeValue', 'IntactValue', 'ColorValue', 'BreedValue']]\n",
    "\n",
    "calcPredictProbas = rf.predict_proba(predictOn.values)\n",
    "#calcPredictProbas"
   ]
  },
  {
   "cell_type": "code",
   "execution_count": null,
   "metadata": {
    "collapsed": false
   },
   "outputs": [
    {
     "name": "stdout",
     "output_type": "stream",
     "text": [
      "Adoption\n",
      "Died\n",
      "Euthanasia\n",
      "Return_to_owner\n",
      "Transfer\n"
     ]
    }
   ],
   "source": [
    "ii = 0\n",
    "for index, row in myTest.iterrows():\n",
    "    stopCounter = stopCounter - 1\n",
    "    #if stopCounter < 0: break\n",
    "    \n",
    "    probas = calcPredictProbas[ii]\n",
    "    ii = ii + 1\n",
    "    #print(probas)\n",
    "    \n",
    "    #for i in probas:\n",
    "    if result is None:\n",
    "        result = DataFrame(columns=[\"ID\"])\n",
    "        result.set_index(\"ID\")\n",
    "\n",
    "        for j in range(0, len(probas)):\n",
    "            result[train.OutcomeType.cat.categories[j]] = None\n",
    "            print(train.OutcomeType.cat.categories[j])\n",
    "\n",
    "    #print(index)\n",
    "\n",
    "    newLine = [index]\n",
    "    newLine.extend(probas)\n",
    "    #print(newLine)\n",
    "    result.loc[len(result)] = newLine\n",
    "            \n",
    "result.head()\n"
   ]
  },
  {
   "cell_type": "code",
   "execution_count": null,
   "metadata": {
    "collapsed": false
   },
   "outputs": [],
   "source": [
    "result[\"ID\"] = result[\"ID\"].astype(int)\n",
    "result.set_index(\"ID\", inplace=True)\n",
    "result.to_csv(\"result.csv\")\n",
    "result"
   ]
  },
  {
   "cell_type": "code",
   "execution_count": null,
   "metadata": {
    "collapsed": true
   },
   "outputs": [],
   "source": []
  }
 ],
 "metadata": {
  "kernelspec": {
   "display_name": "Python 3",
   "language": "python",
   "name": "python3"
  },
  "language_info": {
   "codemirror_mode": {
    "name": "ipython",
    "version": 3
   },
   "file_extension": ".py",
   "mimetype": "text/x-python",
   "name": "python",
   "nbconvert_exporter": "python",
   "pygments_lexer": "ipython3",
   "version": "3.5.1"
  }
 },
 "nbformat": 4,
 "nbformat_minor": 0
}
