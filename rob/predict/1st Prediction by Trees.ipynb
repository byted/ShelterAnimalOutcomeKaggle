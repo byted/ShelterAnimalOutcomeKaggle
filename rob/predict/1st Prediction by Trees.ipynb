{
 "cells": [
  {
   "cell_type": "markdown",
   "metadata": {},
   "source": [
    "# ML - Kaggle Animal Shelter Outcome / Random Forest Classifier\n",
    "\n",
    "## Python loading"
   ]
  },
  {
   "cell_type": "code",
   "execution_count": 137,
   "metadata": {
    "collapsed": false
   },
   "outputs": [],
   "source": [
    "import sys\n",
    "\n",
    "import pandas as pd\n",
    "from pandas import DataFrame, Series\n",
    "\n",
    "import numpy as np\n",
    "\n",
    "import matplotlib.pyplot as plt\n",
    "import matplotlib\n",
    "\n",
    "from sklearn import tree\n",
    "from sklearn.ensemble import RandomForestClassifier \n",
    "\n",
    "%matplotlib inline"
   ]
  },
  {
   "cell_type": "markdown",
   "metadata": {},
   "source": [
    "## Read train and test data"
   ]
  },
  {
   "cell_type": "code",
   "execution_count": 138,
   "metadata": {
    "collapsed": false
   },
   "outputs": [
    {
     "data": {
      "text/html": [
       "<div>\n",
       "<table border=\"1\" class=\"dataframe\">\n",
       "  <thead>\n",
       "    <tr style=\"text-align: right;\">\n",
       "      <th></th>\n",
       "      <th>Name</th>\n",
       "      <th>DateTime</th>\n",
       "      <th>OutcomeType</th>\n",
       "      <th>OutcomeSubtype</th>\n",
       "      <th>AnimalType</th>\n",
       "      <th>SexuponOutcome</th>\n",
       "      <th>AgeuponOutcome</th>\n",
       "      <th>Breed</th>\n",
       "      <th>Color</th>\n",
       "    </tr>\n",
       "    <tr>\n",
       "      <th>AnimalID</th>\n",
       "      <th></th>\n",
       "      <th></th>\n",
       "      <th></th>\n",
       "      <th></th>\n",
       "      <th></th>\n",
       "      <th></th>\n",
       "      <th></th>\n",
       "      <th></th>\n",
       "      <th></th>\n",
       "    </tr>\n",
       "  </thead>\n",
       "  <tbody>\n",
       "    <tr>\n",
       "      <th>A671945</th>\n",
       "      <td>Hambone</td>\n",
       "      <td>2014-02-12 18:22:00</td>\n",
       "      <td>Return_to_owner</td>\n",
       "      <td>NaN</td>\n",
       "      <td>Dog</td>\n",
       "      <td>Neutered Male</td>\n",
       "      <td>1 year</td>\n",
       "      <td>Shetland Sheepdog Mix</td>\n",
       "      <td>Brown/White</td>\n",
       "    </tr>\n",
       "    <tr>\n",
       "      <th>A656520</th>\n",
       "      <td>Emily</td>\n",
       "      <td>2013-10-13 12:44:00</td>\n",
       "      <td>Euthanasia</td>\n",
       "      <td>Suffering</td>\n",
       "      <td>Cat</td>\n",
       "      <td>Spayed Female</td>\n",
       "      <td>1 year</td>\n",
       "      <td>Domestic Shorthair Mix</td>\n",
       "      <td>Cream Tabby</td>\n",
       "    </tr>\n",
       "  </tbody>\n",
       "</table>\n",
       "</div>"
      ],
      "text/plain": [
       "             Name             DateTime      OutcomeType OutcomeSubtype  \\\n",
       "AnimalID                                                                 \n",
       "A671945   Hambone  2014-02-12 18:22:00  Return_to_owner            NaN   \n",
       "A656520     Emily  2013-10-13 12:44:00       Euthanasia      Suffering   \n",
       "\n",
       "         AnimalType SexuponOutcome AgeuponOutcome                   Breed  \\\n",
       "AnimalID                                                                    \n",
       "A671945         Dog  Neutered Male         1 year   Shetland Sheepdog Mix   \n",
       "A656520         Cat  Spayed Female         1 year  Domestic Shorthair Mix   \n",
       "\n",
       "                Color  \n",
       "AnimalID               \n",
       "A671945   Brown/White  \n",
       "A656520   Cream Tabby  "
      ]
     },
     "execution_count": 138,
     "metadata": {},
     "output_type": "execute_result"
    }
   ],
   "source": [
    "train = pd.read_csv(\"../../data/train.csv\", index_col=0)\n",
    "test = pd.read_csv(\"../../data/test.csv\", index_col=0)\n",
    "\n",
    "train.head(2)"
   ]
  },
  {
   "cell_type": "markdown",
   "metadata": {},
   "source": [
    "## Data fitting"
   ]
  },
  {
   "cell_type": "markdown",
   "metadata": {},
   "source": [
    "### Sex\n",
    "The gender can be described as Male and Female. Nevertheless the data also includes information whether the animal is sterilized or not. For the fitting the information is split into two columns: Gender type (Male/Female) and Intact (Y/N)."
   ]
  },
  {
   "cell_type": "code",
   "execution_count": 139,
   "metadata": {
    "collapsed": false
   },
   "outputs": [
    {
     "data": {
      "text/plain": [
       "Neutered Male    9779\n",
       "Spayed Female    8820\n",
       "Intact Male      3525\n",
       "Intact Female    3511\n",
       "Unknown          1093\n",
       "Name: SexuponOutcome, dtype: int64"
      ]
     },
     "execution_count": 139,
     "metadata": {},
     "output_type": "execute_result"
    }
   ],
   "source": [
    "train.SexuponOutcome.value_counts()"
   ]
  },
  {
   "cell_type": "code",
   "execution_count": 140,
   "metadata": {
    "collapsed": true
   },
   "outputs": [],
   "source": [
    "train = pd.read_csv(\"../../data/train.csv\", index_col=0)\n",
    "test = pd.read_csv(\"../../data/test.csv\", index_col=0)\n",
    "\n",
    "def replaceing(dataset):\n",
    "    opt = dataset.copy()\n",
    "\n",
    "    opt[\"Intact\"] = opt.SexuponOutcome.replace(\"Intact Male\", \"Yes\")\n",
    "    opt.Intact = opt.Intact.replace(\"Neutered Male\", \"No\")\n",
    "    opt.Intact = opt.Intact.replace(\"Spayed Female\", \"No\")\n",
    "    opt.Intact = opt.Intact.replace(\"Intact Female\", \"Yes\")\n",
    "    opt.Intact = opt.Intact.replace(\"Unknown\", np.nan)\n",
    "\n",
    "    opt.SexuponOutcome = opt.SexuponOutcome.replace(\"Neutered Male\", \"Male\")\n",
    "    opt.SexuponOutcome = opt.SexuponOutcome.replace(\"Intact Male\", \"Male\")\n",
    "    opt.SexuponOutcome = opt.SexuponOutcome.replace(\"Spayed Female\", \"Female\")\n",
    "    opt.SexuponOutcome = opt.SexuponOutcome.replace(\"Intact Female\", \"Female\")\n",
    "    opt.SexuponOutcome = opt.SexuponOutcome.replace(\"Unknown\", np.nan)\n",
    "\n",
    "    return opt\n",
    "\n",
    "train = replaceing(train)\n",
    "test = replaceing(test)"
   ]
  },
  {
   "cell_type": "markdown",
   "metadata": {},
   "source": [
    "### Color"
   ]
  },
  {
   "cell_type": "code",
   "execution_count": 141,
   "metadata": {
    "collapsed": false
   },
   "outputs": [],
   "source": [
    "train.Color = train.Color.apply(lambda x: x.split(\"/\")[0])\n",
    "test.Color = test.Color.apply(lambda x: x.split(\"/\")[0])"
   ]
  },
  {
   "cell_type": "markdown",
   "metadata": {},
   "source": [
    "### Breed"
   ]
  },
  {
   "cell_type": "code",
   "execution_count": 142,
   "metadata": {
    "collapsed": true
   },
   "outputs": [],
   "source": [
    "train.Breed = train.Breed.apply(lambda x: x.split(\"/\")[0])\n",
    "test.Breed = test.Breed.apply(lambda x: x.split(\"/\")[0])"
   ]
  },
  {
   "cell_type": "markdown",
   "metadata": {},
   "source": [
    "### Data categorising\n",
    "The columns are still containing data as String. We're using Pandas categories type for handling these values as integers."
   ]
  },
  {
   "cell_type": "code",
   "execution_count": 143,
   "metadata": {
    "collapsed": true
   },
   "outputs": [],
   "source": [
    "train.Intact = train.Intact.astype(\"category\")\n",
    "train[\"IntactValue\"] = train.Intact.cat.codes\n",
    "test.Intact = test.Intact.astype(\"category\", train.Intact.cat.categories.values.tolist())\n",
    "test[\"IntactValue\"] = test.Intact.cat.codes\n",
    "\n",
    "train.SexuponOutcome = train.SexuponOutcome.astype(\"category\")\n",
    "train[\"SexuponOutcomeValue\"] = train.SexuponOutcome.cat.codes\n",
    "test.SexuponOutcome = test.SexuponOutcome.astype(\"category\", train.SexuponOutcome.cat.categories.values.tolist())\n",
    "test[\"SexuponOutcomeValue\"] = test.SexuponOutcome.cat.codes\n",
    "\n",
    "train.OutcomeType = train.OutcomeType.astype(\"category\")"
   ]
  },
  {
   "cell_type": "code",
   "execution_count": 144,
   "metadata": {
    "collapsed": false
   },
   "outputs": [],
   "source": [
    "train.Color = train.Color.astype(\"category\")\n",
    "train[\"ColorValue\"] = train.Color.cat.codes\n",
    "\n",
    "test.Color = test.Color.astype(\"category\", categories=train.Color.cat.categories.values.tolist())\n",
    "test[\"ColorValue\"] = test.Color.cat.codes"
   ]
  },
  {
   "cell_type": "code",
   "execution_count": 145,
   "metadata": {
    "collapsed": false
   },
   "outputs": [
    {
     "data": {
      "text/plain": [
       "Domestic Shorthair Mix      8810\n",
       "Pit Bull Mix                1906\n",
       "Chihuahua Shorthair Mix     1766\n",
       "Labrador Retriever Mix      1363\n",
       "Domestic Medium Hair Mix     839\n",
       "dtype: int64"
      ]
     },
     "execution_count": 145,
     "metadata": {},
     "output_type": "execute_result"
    }
   ],
   "source": [
    "train.Breed = train.Breed.astype(\"category\")\n",
    "test.Breed = test.Breed.astype(\"category\", categories=train.Breed.cat.categories.values.tolist())\n",
    "\n",
    "train[\"BreedValue\"] = train.Breed.cat.codes\n",
    "test[\"BreedValue\"] = test.Breed.cat.codes\n",
    "\n",
    "train[\"Breed\"].value_counts().head(5)"
   ]
  },
  {
   "cell_type": "markdown",
   "metadata": {},
   "source": [
    "#### Test for training with names"
   ]
  },
  {
   "cell_type": "code",
   "execution_count": 146,
   "metadata": {
    "collapsed": false
   },
   "outputs": [],
   "source": [
    "train[\"FirstLetter\"] = train.Name.str[0]\n",
    "test[\"FirstLetter\"] = test.Name.str[0]\n",
    "\n",
    "train[\"FirstLetter\"] = train[\"FirstLetter\"].astype(\"category\")\n",
    "test[\"FirstLetter\"] = test[\"FirstLetter\"].astype(\"category\", categories=train.FirstLetter.cat.categories.values.tolist())\n",
    "\n",
    "train[\"FirstLetterValue\"] = train[\"FirstLetter\"].cat.codes\n",
    "test[\"FirstLetterValue\"] = test[\"FirstLetter\"].cat.codes"
   ]
  },
  {
   "cell_type": "markdown",
   "metadata": {},
   "source": [
    "### Test the categorising"
   ]
  },
  {
   "cell_type": "code",
   "execution_count": 147,
   "metadata": {
    "collapsed": false
   },
   "outputs": [
    {
     "data": {
      "text/html": [
       "<div>\n",
       "<table border=\"1\" class=\"dataframe\">\n",
       "  <thead>\n",
       "    <tr style=\"text-align: right;\">\n",
       "      <th></th>\n",
       "      <th>Name</th>\n",
       "      <th>DateTime</th>\n",
       "      <th>AnimalType</th>\n",
       "      <th>SexuponOutcome</th>\n",
       "      <th>AgeuponOutcome</th>\n",
       "      <th>Breed</th>\n",
       "      <th>Color</th>\n",
       "      <th>Intact</th>\n",
       "      <th>IntactValue</th>\n",
       "      <th>SexuponOutcomeValue</th>\n",
       "      <th>ColorValue</th>\n",
       "      <th>BreedValue</th>\n",
       "      <th>FirstLetter</th>\n",
       "      <th>FirstLetterValue</th>\n",
       "    </tr>\n",
       "    <tr>\n",
       "      <th>ID</th>\n",
       "      <th></th>\n",
       "      <th></th>\n",
       "      <th></th>\n",
       "      <th></th>\n",
       "      <th></th>\n",
       "      <th></th>\n",
       "      <th></th>\n",
       "      <th></th>\n",
       "      <th></th>\n",
       "      <th></th>\n",
       "      <th></th>\n",
       "      <th></th>\n",
       "      <th></th>\n",
       "      <th></th>\n",
       "    </tr>\n",
       "  </thead>\n",
       "  <tbody>\n",
       "    <tr>\n",
       "      <th>1</th>\n",
       "      <td>Summer</td>\n",
       "      <td>2015-10-12 12:15:00</td>\n",
       "      <td>Dog</td>\n",
       "      <td>Female</td>\n",
       "      <td>10 months</td>\n",
       "      <td>Labrador Retriever Mix</td>\n",
       "      <td>Red</td>\n",
       "      <td>Yes</td>\n",
       "      <td>1</td>\n",
       "      <td>0</td>\n",
       "      <td>40</td>\n",
       "      <td>221</td>\n",
       "      <td>S</td>\n",
       "      <td>22</td>\n",
       "    </tr>\n",
       "  </tbody>\n",
       "</table>\n",
       "</div>"
      ],
      "text/plain": [
       "      Name             DateTime AnimalType SexuponOutcome AgeuponOutcome  \\\n",
       "ID                                                                         \n",
       "1   Summer  2015-10-12 12:15:00        Dog         Female      10 months   \n",
       "\n",
       "                     Breed Color Intact  IntactValue  SexuponOutcomeValue  \\\n",
       "ID                                                                          \n",
       "1   Labrador Retriever Mix   Red    Yes            1                    0   \n",
       "\n",
       "    ColorValue  BreedValue FirstLetter  FirstLetterValue  \n",
       "ID                                                        \n",
       "1           40         221           S                22  "
      ]
     },
     "execution_count": 147,
     "metadata": {},
     "output_type": "execute_result"
    }
   ],
   "source": [
    "test[test.Color == \"Red\"].head(1)"
   ]
  },
  {
   "cell_type": "code",
   "execution_count": 148,
   "metadata": {
    "collapsed": false
   },
   "outputs": [
    {
     "data": {
      "text/html": [
       "<div>\n",
       "<table border=\"1\" class=\"dataframe\">\n",
       "  <thead>\n",
       "    <tr style=\"text-align: right;\">\n",
       "      <th></th>\n",
       "      <th>Name</th>\n",
       "      <th>DateTime</th>\n",
       "      <th>OutcomeType</th>\n",
       "      <th>OutcomeSubtype</th>\n",
       "      <th>AnimalType</th>\n",
       "      <th>SexuponOutcome</th>\n",
       "      <th>AgeuponOutcome</th>\n",
       "      <th>Breed</th>\n",
       "      <th>Color</th>\n",
       "      <th>Intact</th>\n",
       "      <th>IntactValue</th>\n",
       "      <th>SexuponOutcomeValue</th>\n",
       "      <th>ColorValue</th>\n",
       "      <th>BreedValue</th>\n",
       "      <th>FirstLetter</th>\n",
       "      <th>FirstLetterValue</th>\n",
       "    </tr>\n",
       "    <tr>\n",
       "      <th>AnimalID</th>\n",
       "      <th></th>\n",
       "      <th></th>\n",
       "      <th></th>\n",
       "      <th></th>\n",
       "      <th></th>\n",
       "      <th></th>\n",
       "      <th></th>\n",
       "      <th></th>\n",
       "      <th></th>\n",
       "      <th></th>\n",
       "      <th></th>\n",
       "      <th></th>\n",
       "      <th></th>\n",
       "      <th></th>\n",
       "      <th></th>\n",
       "      <th></th>\n",
       "    </tr>\n",
       "  </thead>\n",
       "  <tbody>\n",
       "    <tr>\n",
       "      <th>A671784</th>\n",
       "      <td>Lucy</td>\n",
       "      <td>2014-02-04 17:17:00</td>\n",
       "      <td>Adoption</td>\n",
       "      <td>NaN</td>\n",
       "      <td>Dog</td>\n",
       "      <td>Female</td>\n",
       "      <td>5 months</td>\n",
       "      <td>American Pit Bull Terrier Mix</td>\n",
       "      <td>Red</td>\n",
       "      <td>No</td>\n",
       "      <td>0</td>\n",
       "      <td>0</td>\n",
       "      <td>40</td>\n",
       "      <td>18</td>\n",
       "      <td>L</td>\n",
       "      <td>15</td>\n",
       "    </tr>\n",
       "  </tbody>\n",
       "</table>\n",
       "</div>"
      ],
      "text/plain": [
       "          Name             DateTime OutcomeType OutcomeSubtype AnimalType  \\\n",
       "AnimalID                                                                    \n",
       "A671784   Lucy  2014-02-04 17:17:00    Adoption            NaN        Dog   \n",
       "\n",
       "         SexuponOutcome AgeuponOutcome                          Breed Color  \\\n",
       "AnimalID                                                                      \n",
       "A671784          Female       5 months  American Pit Bull Terrier Mix   Red   \n",
       "\n",
       "         Intact  IntactValue  SexuponOutcomeValue  ColorValue  BreedValue  \\\n",
       "AnimalID                                                                    \n",
       "A671784      No            0                    0          40          18   \n",
       "\n",
       "         FirstLetter  FirstLetterValue  \n",
       "AnimalID                                \n",
       "A671784            L                15  "
      ]
     },
     "execution_count": 148,
     "metadata": {},
     "output_type": "execute_result"
    }
   ],
   "source": [
    "train[train.Color==\"Red\"].head(1)"
   ]
  },
  {
   "cell_type": "code",
   "execution_count": 149,
   "metadata": {
    "collapsed": false
   },
   "outputs": [
    {
     "data": {
      "text/plain": [
       "AnimalID\n",
       "A671945    1\n",
       "A656520    0\n",
       "A686464    1\n",
       "A683430    1\n",
       "A667013    1\n",
       "dtype: int8"
      ]
     },
     "execution_count": 149,
     "metadata": {},
     "output_type": "execute_result"
    }
   ],
   "source": [
    "# Codes are representing the strings as a integer value\n",
    "train.head(5).SexuponOutcome.cat.codes"
   ]
  },
  {
   "cell_type": "markdown",
   "metadata": {},
   "source": [
    "## More advanced data fitting\n",
    "### Put AgeuponOutcome to (not Pandas) categories like Young/Old/Adult"
   ]
  },
  {
   "cell_type": "code",
   "execution_count": 150,
   "metadata": {
    "collapsed": false
   },
   "outputs": [],
   "source": [
    "train.AgeuponOutcome = train.AgeuponOutcome.fillna(\"-1 days\")\n",
    "test.AgeuponOutcome = test.AgeuponOutcome.fillna(\"-1 days\")\n",
    "\n",
    "def calcYearValue(x):\n",
    "    factor = 1\n",
    "    if str(x).split(\" \")[1].startswith(\"day\"):\n",
    "        return 1#factor = 0\n",
    "    #elif str(x).split(\" \")[1].startswith(\"month\"):\n",
    "    #    factor = 12\n",
    "    elif str(x).split(\" \")[1].startswith(\"month\"):\n",
    "        factor = 30\n",
    "    elif str(x).split(\" \")[1].startswith(\"year\"):\n",
    "        factor = 356\n",
    "        \n",
    "    if str(x).split(\" \")[0] == \"-1\":\n",
    "        return -1\n",
    "    else:\n",
    "        return int(int(str(x).split(\" \")[0]) * factor)\n",
    "    \n",
    "def calcAgeCategory(x):\n",
    "    factor = 1\n",
    "    if str(x).split(\" \")[1].startswith(\"day\"):\n",
    "        return \"very young\"\n",
    "    elif str(x).split(\" \")[1].startswith(\"month\") or str(x).split(\" \")[1].startswith(\"week\"):\n",
    "        return \"young\"\n",
    "    elif str(x).split(\" \")[1].startswith(\"year\") and int(str(x).split(\" \")[0]) < 5:\n",
    "        return \"young adult\"\n",
    "    elif str(x).split(\" \")[1].startswith(\"year\") and int(str(x).split(\" \")[0]) < 10:\n",
    "        return \"adult\"\n",
    "    return \"old\"\n",
    "\n",
    "\n",
    "train[\"AgeuponOutcomeYears\"] = train.AgeuponOutcome.apply(lambda x: calcYearValue(x))\n",
    "\n",
    "train[\"AgeCategory\"] = train.AgeuponOutcome.apply(lambda x: calcAgeCategory(x))\n",
    "test[\"AgeCategory\"] = test.AgeuponOutcome.apply(lambda x: calcAgeCategory(x))\n",
    "\n",
    "train[\"AgeCategory\"] = train[\"AgeCategory\"].astype(\"category\")\n",
    "test[\"AgeCategory\"] = test[\"AgeCategory\"].astype(\"category\", categories=train[\"AgeCategory\"].cat.categories.values.tolist())\n",
    "\n",
    "train[\"AgeCategoryValue\"] = train[\"AgeCategory\"].cat.codes\n",
    "test[\"AgeCategoryValue\"] = test[\"AgeCategory\"].cat.codes"
   ]
  },
  {
   "cell_type": "code",
   "execution_count": 151,
   "metadata": {
    "collapsed": false
   },
   "outputs": [
    {
     "data": {
      "text/plain": [
       "10 years    446\n",
       "12 years    234\n",
       "13 years    143\n",
       "11 years    126\n",
       "14 years     97\n",
       "15 years     85\n",
       "16 years     36\n",
       "17 years     17\n",
       "18 years     10\n",
       "19 years      3\n",
       "Name: AgeuponOutcome, dtype: int64"
      ]
     },
     "execution_count": 151,
     "metadata": {},
     "output_type": "execute_result"
    }
   ],
   "source": [
    "train[train.AgeuponOutcome.str.startswith(\"1\") & train.AgeuponOutcome.str.contains(\"years\")].AgeuponOutcome.value_counts()"
   ]
  },
  {
   "cell_type": "markdown",
   "metadata": {},
   "source": [
    "Let's see the distributon of the years. The peaks are a result of the multiplication of \"high units\" like day->week->month->year"
   ]
  },
  {
   "cell_type": "code",
   "execution_count": 152,
   "metadata": {
    "collapsed": false
   },
   "outputs": [
    {
     "data": {
      "text/plain": [
       "<matplotlib.axes._subplots.AxesSubplot at 0x18856bc88>"
      ]
     },
     "execution_count": 152,
     "metadata": {},
     "output_type": "execute_result"
    },
    {
     "data": {
      "image/png": "[encoded data removed]",
      "text/plain": [
       "<matplotlib.figure.Figure at 0x188550550>"
      ]
     },
     "metadata": {},
     "output_type": "display_data"
    }
   ],
   "source": [
    "mean = int(train[train.AgeuponOutcomeYears != -1].AgeuponOutcomeYears.mean())\n",
    "train.AgeuponOutcomeYears = train.AgeuponOutcomeYears.apply(lambda x: mean if x == -1 else x)\n",
    "\n",
    "#train.AgeuponOutcomeYears = train.AgeuponOutcomeYears.apply(lambda x: 4 if x > 4 else x)\n",
    "\n",
    "train.AgeuponOutcomeYears.value_counts().sort_index().plot(kind=\"bar\")"
   ]
  },
  {
   "cell_type": "code",
   "execution_count": 153,
   "metadata": {
    "collapsed": false
   },
   "outputs": [
    {
     "data": {
      "text/plain": [
       "11886"
      ]
     },
     "execution_count": 153,
     "metadata": {},
     "output_type": "execute_result"
    }
   ],
   "source": [
    "len(train[~train.AgeuponOutcome.str.contains(\"year\")])"
   ]
  },
  {
   "cell_type": "markdown",
   "metadata": {},
   "source": [
    "The distribution of the categories looks pretty good :-)"
   ]
  },
  {
   "cell_type": "code",
   "execution_count": 154,
   "metadata": {
    "collapsed": false
   },
   "outputs": [
    {
     "data": {
      "text/plain": [
       "young          11470\n",
       "young adult    10627\n",
       "adult           3017\n",
       "old             1199\n",
       "very young       416\n",
       "dtype: int64"
      ]
     },
     "execution_count": 154,
     "metadata": {},
     "output_type": "execute_result"
    }
   ],
   "source": [
    "train.AgeCategory.value_counts()"
   ]
  },
  {
   "cell_type": "markdown",
   "metadata": {
    "collapsed": false
   },
   "source": [
    "## Prediction"
   ]
  },
  {
   "cell_type": "code",
   "execution_count": 155,
   "metadata": {
    "collapsed": false
   },
   "outputs": [],
   "source": [
    "# Let's predict with a Random Forest Classifier!\n",
    "rf = RandomForestClassifier(n_estimators=1500, n_jobs=-1)\n",
    "\n",
    "predict_cols = [\"SexuponOutcomeValue\", \"IntactValue\", \"ColorValue\", 'BreedValue', 'AgeCategoryValue']\n",
    "\n",
    "d_train = train[predict_cols].values\n",
    "d_target = train.OutcomeType.cat.codes.values"
   ]
  },
  {
   "cell_type": "markdown",
   "metadata": {},
   "source": [
    "## Fit"
   ]
  },
  {
   "cell_type": "code",
   "execution_count": 156,
   "metadata": {
    "collapsed": false
   },
   "outputs": [
    {
     "data": {
      "text/plain": [
       "RandomForestClassifier(bootstrap=True, class_weight=None, criterion='gini',\n",
       "            max_depth=None, max_features='auto', max_leaf_nodes=None,\n",
       "            min_samples_leaf=1, min_samples_split=2,\n",
       "            min_weight_fraction_leaf=0.0, n_estimators=3000, n_jobs=-1,\n",
       "            oob_score=False, random_state=None, verbose=0,\n",
       "            warm_start=False)"
      ]
     },
     "execution_count": 156,
     "metadata": {},
     "output_type": "execute_result"
    }
   ],
   "source": [
    "rf.fit(d_train, d_target)"
   ]
  },
  {
   "cell_type": "markdown",
   "metadata": {},
   "source": [
    "## Predict"
   ]
  },
  {
   "cell_type": "code",
   "execution_count": 157,
   "metadata": {
    "collapsed": false
   },
   "outputs": [],
   "source": [
    "myTest = test.copy()\n",
    "\n",
    "result = None \n",
    "\n",
    "#predictOn = myTest[['SexuponOutcomeValue', 'IntactValue', 'ColorValue', 'BreedValue', 'AgeCategoryValue']]\n",
    "predictOn = myTest[predict_cols]\n",
    "\n",
    "calcPredictProbas = rf.predict_proba(predictOn.values) # withs probalilities"
   ]
  },
  {
   "cell_type": "code",
   "execution_count": 158,
   "metadata": {
    "collapsed": false
   },
   "outputs": [
    {
     "name": "stdout",
     "output_type": "stream",
     "text": [
      "Adoption\n",
      "Died\n",
      "Euthanasia\n",
      "Return_to_owner\n",
      "Transfer\n"
     ]
    },
    {
     "data": {
      "text/html": [
       "<div>\n",
       "<table border=\"1\" class=\"dataframe\">\n",
       "  <thead>\n",
       "    <tr style=\"text-align: right;\">\n",
       "      <th></th>\n",
       "      <th>ID</th>\n",
       "      <th>Adoption</th>\n",
       "      <th>Died</th>\n",
       "      <th>Euthanasia</th>\n",
       "      <th>Return_to_owner</th>\n",
       "      <th>Transfer</th>\n",
       "    </tr>\n",
       "  </thead>\n",
       "  <tbody>\n",
       "    <tr>\n",
       "      <th>0</th>\n",
       "      <td>1.0</td>\n",
       "      <td>0.055338</td>\n",
       "      <td>0.018539</td>\n",
       "      <td>0.108457</td>\n",
       "      <td>0.18227</td>\n",
       "      <td>0.635397</td>\n",
       "    </tr>\n",
       "    <tr>\n",
       "      <th>1</th>\n",
       "      <td>2.0</td>\n",
       "      <td>0.055338</td>\n",
       "      <td>0.018539</td>\n",
       "      <td>0.108457</td>\n",
       "      <td>0.18227</td>\n",
       "      <td>0.635397</td>\n",
       "    </tr>\n",
       "    <tr>\n",
       "      <th>2</th>\n",
       "      <td>3.0</td>\n",
       "      <td>0.055338</td>\n",
       "      <td>0.018539</td>\n",
       "      <td>0.108457</td>\n",
       "      <td>0.18227</td>\n",
       "      <td>0.635397</td>\n",
       "    </tr>\n",
       "    <tr>\n",
       "      <th>3</th>\n",
       "      <td>4.0</td>\n",
       "      <td>0.055338</td>\n",
       "      <td>0.018539</td>\n",
       "      <td>0.108457</td>\n",
       "      <td>0.18227</td>\n",
       "      <td>0.635397</td>\n",
       "    </tr>\n",
       "    <tr>\n",
       "      <th>4</th>\n",
       "      <td>5.0</td>\n",
       "      <td>0.055338</td>\n",
       "      <td>0.018539</td>\n",
       "      <td>0.108457</td>\n",
       "      <td>0.18227</td>\n",
       "      <td>0.635397</td>\n",
       "    </tr>\n",
       "  </tbody>\n",
       "</table>\n",
       "</div>"
      ],
      "text/plain": [
       "    ID  Adoption      Died  Euthanasia  Return_to_owner  Transfer\n",
       "0  1.0  0.055338  0.018539    0.108457          0.18227  0.635397\n",
       "1  2.0  0.055338  0.018539    0.108457          0.18227  0.635397\n",
       "2  3.0  0.055338  0.018539    0.108457          0.18227  0.635397\n",
       "3  4.0  0.055338  0.018539    0.108457          0.18227  0.635397\n",
       "4  5.0  0.055338  0.018539    0.108457          0.18227  0.635397"
      ]
     },
     "execution_count": 158,
     "metadata": {},
     "output_type": "execute_result"
    }
   ],
   "source": [
    "ii = 0\n",
    "for index, row in myTest.iterrows():\n",
    "    probas = calcPredictProbas[ii]\n",
    "    \n",
    "    #for i in probas:\n",
    "    if result is None:\n",
    "        result = DataFrame(columns=[\"ID\"])\n",
    "        result.set_index(\"ID\")\n",
    "\n",
    "        for j in range(0, len(probas)):\n",
    "            result[train.OutcomeType.cat.categories[j]] = None\n",
    "            print(train.OutcomeType.cat.categories[j])\n",
    "\n",
    "    newLine = [index]\n",
    "    newLine.extend(probas)\n",
    "    #print(newLine)\n",
    "    result.loc[len(result)] = newLine\n",
    "            \n",
    "result.head()\n"
   ]
  },
  {
   "cell_type": "code",
   "execution_count": 159,
   "metadata": {
    "collapsed": false
   },
   "outputs": [
    {
     "data": {
      "text/html": [
       "<div>\n",
       "<table border=\"1\" class=\"dataframe\">\n",
       "  <thead>\n",
       "    <tr style=\"text-align: right;\">\n",
       "      <th></th>\n",
       "      <th>Adoption</th>\n",
       "      <th>Died</th>\n",
       "      <th>Euthanasia</th>\n",
       "      <th>Return_to_owner</th>\n",
       "      <th>Transfer</th>\n",
       "    </tr>\n",
       "    <tr>\n",
       "      <th>ID</th>\n",
       "      <th></th>\n",
       "      <th></th>\n",
       "      <th></th>\n",
       "      <th></th>\n",
       "      <th></th>\n",
       "    </tr>\n",
       "  </thead>\n",
       "  <tbody>\n",
       "    <tr>\n",
       "      <th>1</th>\n",
       "      <td>0.055338</td>\n",
       "      <td>0.018539</td>\n",
       "      <td>0.108457</td>\n",
       "      <td>0.18227</td>\n",
       "      <td>0.635397</td>\n",
       "    </tr>\n",
       "    <tr>\n",
       "      <th>2</th>\n",
       "      <td>0.055338</td>\n",
       "      <td>0.018539</td>\n",
       "      <td>0.108457</td>\n",
       "      <td>0.18227</td>\n",
       "      <td>0.635397</td>\n",
       "    </tr>\n",
       "    <tr>\n",
       "      <th>3</th>\n",
       "      <td>0.055338</td>\n",
       "      <td>0.018539</td>\n",
       "      <td>0.108457</td>\n",
       "      <td>0.18227</td>\n",
       "      <td>0.635397</td>\n",
       "    </tr>\n",
       "    <tr>\n",
       "      <th>4</th>\n",
       "      <td>0.055338</td>\n",
       "      <td>0.018539</td>\n",
       "      <td>0.108457</td>\n",
       "      <td>0.18227</td>\n",
       "      <td>0.635397</td>\n",
       "    </tr>\n",
       "    <tr>\n",
       "      <th>5</th>\n",
       "      <td>0.055338</td>\n",
       "      <td>0.018539</td>\n",
       "      <td>0.108457</td>\n",
       "      <td>0.18227</td>\n",
       "      <td>0.635397</td>\n",
       "    </tr>\n",
       "    <tr>\n",
       "      <th>6</th>\n",
       "      <td>0.055338</td>\n",
       "      <td>0.018539</td>\n",
       "      <td>0.108457</td>\n",
       "      <td>0.18227</td>\n",
       "      <td>0.635397</td>\n",
       "    </tr>\n",
       "    <tr>\n",
       "      <th>7</th>\n",
       "      <td>0.055338</td>\n",
       "      <td>0.018539</td>\n",
       "      <td>0.108457</td>\n",
       "      <td>0.18227</td>\n",
       "      <td>0.635397</td>\n",
       "    </tr>\n",
       "    <tr>\n",
       "      <th>8</th>\n",
       "      <td>0.055338</td>\n",
       "      <td>0.018539</td>\n",
       "      <td>0.108457</td>\n",
       "      <td>0.18227</td>\n",
       "      <td>0.635397</td>\n",
       "    </tr>\n",
       "    <tr>\n",
       "      <th>9</th>\n",
       "      <td>0.055338</td>\n",
       "      <td>0.018539</td>\n",
       "      <td>0.108457</td>\n",
       "      <td>0.18227</td>\n",
       "      <td>0.635397</td>\n",
       "    </tr>\n",
       "    <tr>\n",
       "      <th>10</th>\n",
       "      <td>0.055338</td>\n",
       "      <td>0.018539</td>\n",
       "      <td>0.108457</td>\n",
       "      <td>0.18227</td>\n",
       "      <td>0.635397</td>\n",
       "    </tr>\n",
       "    <tr>\n",
       "      <th>11</th>\n",
       "      <td>0.055338</td>\n",
       "      <td>0.018539</td>\n",
       "      <td>0.108457</td>\n",
       "      <td>0.18227</td>\n",
       "      <td>0.635397</td>\n",
       "    </tr>\n",
       "    <tr>\n",
       "      <th>12</th>\n",
       "      <td>0.055338</td>\n",
       "      <td>0.018539</td>\n",
       "      <td>0.108457</td>\n",
       "      <td>0.18227</td>\n",
       "      <td>0.635397</td>\n",
       "    </tr>\n",
       "    <tr>\n",
       "      <th>13</th>\n",
       "      <td>0.055338</td>\n",
       "      <td>0.018539</td>\n",
       "      <td>0.108457</td>\n",
       "      <td>0.18227</td>\n",
       "      <td>0.635397</td>\n",
       "    </tr>\n",
       "    <tr>\n",
       "      <th>14</th>\n",
       "      <td>0.055338</td>\n",
       "      <td>0.018539</td>\n",
       "      <td>0.108457</td>\n",
       "      <td>0.18227</td>\n",
       "      <td>0.635397</td>\n",
       "    </tr>\n",
       "    <tr>\n",
       "      <th>15</th>\n",
       "      <td>0.055338</td>\n",
       "      <td>0.018539</td>\n",
       "      <td>0.108457</td>\n",
       "      <td>0.18227</td>\n",
       "      <td>0.635397</td>\n",
       "    </tr>\n",
       "  </tbody>\n",
       "</table>\n",
       "</div>"
      ],
      "text/plain": [
       "    Adoption      Died  Euthanasia  Return_to_owner  Transfer\n",
       "ID                                                           \n",
       "1   0.055338  0.018539    0.108457          0.18227  0.635397\n",
       "2   0.055338  0.018539    0.108457          0.18227  0.635397\n",
       "3   0.055338  0.018539    0.108457          0.18227  0.635397\n",
       "4   0.055338  0.018539    0.108457          0.18227  0.635397\n",
       "5   0.055338  0.018539    0.108457          0.18227  0.635397\n",
       "6   0.055338  0.018539    0.108457          0.18227  0.635397\n",
       "7   0.055338  0.018539    0.108457          0.18227  0.635397\n",
       "8   0.055338  0.018539    0.108457          0.18227  0.635397\n",
       "9   0.055338  0.018539    0.108457          0.18227  0.635397\n",
       "10  0.055338  0.018539    0.108457          0.18227  0.635397\n",
       "11  0.055338  0.018539    0.108457          0.18227  0.635397\n",
       "12  0.055338  0.018539    0.108457          0.18227  0.635397\n",
       "13  0.055338  0.018539    0.108457          0.18227  0.635397\n",
       "14  0.055338  0.018539    0.108457          0.18227  0.635397\n",
       "15  0.055338  0.018539    0.108457          0.18227  0.635397"
      ]
     },
     "execution_count": 159,
     "metadata": {},
     "output_type": "execute_result"
    }
   ],
   "source": [
    "result[\"ID\"] = result[\"ID\"].astype(int)\n",
    "result.set_index(\"ID\", inplace=True)\n",
    "result.to_csv(\"result.csv\")\n",
    "\n",
    "result.head(15)"
   ]
  },
  {
   "cell_type": "code",
   "execution_count": null,
   "metadata": {
    "collapsed": true
   },
   "outputs": [],
   "source": []
  }
 ],
 "metadata": {
  "kernelspec": {
   "display_name": "Python 3",
   "language": "python",
   "name": "python3"
  },
  "language_info": {
   "codemirror_mode": {
    "name": "ipython",
    "version": 3
   },
   "file_extension": ".py",
   "mimetype": "text/x-python",
   "name": "python",
   "nbconvert_exporter": "python",
   "pygments_lexer": "ipython3",
   "version": "3.5.1"
  }
 },
 "nbformat": 4,
 "nbformat_minor": 0
}
