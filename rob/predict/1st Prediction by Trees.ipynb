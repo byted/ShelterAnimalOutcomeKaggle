{
 "cells": [
  {
   "cell_type": "markdown",
   "metadata": {},
   "source": [
    "## Python loading"
   ]
  },
  {
   "cell_type": "code",
   "execution_count": 321,
   "metadata": {
    "collapsed": false
   },
   "outputs": [],
   "source": [
    "import sys\n",
    "\n",
    "import pandas as pd\n",
    "from pandas import DataFrame, Series\n",
    "\n",
    "import numpy as np\n",
    "\n",
    "import matplotlib.pyplot as plt\n",
    "import matplotlib\n",
    "\n",
    "#import xgboost as xgb\n",
    "\n",
    "from sklearn import tree\n",
    "from sklearn.ensemble import RandomForestClassifier \n",
    "\n",
    "%matplotlib inline"
   ]
  },
  {
   "cell_type": "code",
   "execution_count": 322,
   "metadata": {
    "collapsed": false
   },
   "outputs": [
    {
     "data": {
      "text/html": [
       "<div>\n",
       "<table border=\"1\" class=\"dataframe\">\n",
       "  <thead>\n",
       "    <tr style=\"text-align: right;\">\n",
       "      <th></th>\n",
       "      <th>Name</th>\n",
       "      <th>DateTime</th>\n",
       "      <th>OutcomeType</th>\n",
       "      <th>OutcomeSubtype</th>\n",
       "      <th>AnimalType</th>\n",
       "      <th>SexuponOutcome</th>\n",
       "      <th>AgeuponOutcome</th>\n",
       "      <th>Breed</th>\n",
       "      <th>Color</th>\n",
       "    </tr>\n",
       "    <tr>\n",
       "      <th>AnimalID</th>\n",
       "      <th></th>\n",
       "      <th></th>\n",
       "      <th></th>\n",
       "      <th></th>\n",
       "      <th></th>\n",
       "      <th></th>\n",
       "      <th></th>\n",
       "      <th></th>\n",
       "      <th></th>\n",
       "    </tr>\n",
       "  </thead>\n",
       "  <tbody>\n",
       "    <tr>\n",
       "      <th>A671945</th>\n",
       "      <td>Hambone</td>\n",
       "      <td>2014-02-12 18:22:00</td>\n",
       "      <td>Return_to_owner</td>\n",
       "      <td>NaN</td>\n",
       "      <td>Dog</td>\n",
       "      <td>Neutered Male</td>\n",
       "      <td>1 year</td>\n",
       "      <td>Shetland Sheepdog Mix</td>\n",
       "      <td>Brown/White</td>\n",
       "    </tr>\n",
       "    <tr>\n",
       "      <th>A656520</th>\n",
       "      <td>Emily</td>\n",
       "      <td>2013-10-13 12:44:00</td>\n",
       "      <td>Euthanasia</td>\n",
       "      <td>Suffering</td>\n",
       "      <td>Cat</td>\n",
       "      <td>Spayed Female</td>\n",
       "      <td>1 year</td>\n",
       "      <td>Domestic Shorthair Mix</td>\n",
       "      <td>Cream Tabby</td>\n",
       "    </tr>\n",
       "  </tbody>\n",
       "</table>\n",
       "</div>"
      ],
      "text/plain": [
       "             Name             DateTime      OutcomeType OutcomeSubtype  \\\n",
       "AnimalID                                                                 \n",
       "A671945   Hambone  2014-02-12 18:22:00  Return_to_owner            NaN   \n",
       "A656520     Emily  2013-10-13 12:44:00       Euthanasia      Suffering   \n",
       "\n",
       "         AnimalType SexuponOutcome AgeuponOutcome                   Breed  \\\n",
       "AnimalID                                                                    \n",
       "A671945         Dog  Neutered Male         1 year   Shetland Sheepdog Mix   \n",
       "A656520         Cat  Spayed Female         1 year  Domestic Shorthair Mix   \n",
       "\n",
       "                Color  \n",
       "AnimalID               \n",
       "A671945   Brown/White  \n",
       "A656520   Cream Tabby  "
      ]
     },
     "execution_count": 322,
     "metadata": {},
     "output_type": "execute_result"
    }
   ],
   "source": [
    "train = pd.read_csv(\"../../data/train.csv\", index_col=0)\n",
    "test = pd.read_csv(\"../../data/test.csv\", index_col=0)\n",
    "\n",
    "train.head(2)"
   ]
  },
  {
   "cell_type": "markdown",
   "metadata": {},
   "source": [
    "## Data fitting"
   ]
  },
  {
   "cell_type": "code",
   "execution_count": 323,
   "metadata": {
    "collapsed": false
   },
   "outputs": [
    {
     "data": {
      "text/plain": [
       "Neutered Male    9779\n",
       "Spayed Female    8820\n",
       "Intact Male      3525\n",
       "Intact Female    3511\n",
       "Unknown          1093\n",
       "Name: SexuponOutcome, dtype: int64"
      ]
     },
     "execution_count": 323,
     "metadata": {},
     "output_type": "execute_result"
    }
   ],
   "source": [
    "train.SexuponOutcome.value_counts()"
   ]
  },
  {
   "cell_type": "code",
   "execution_count": 328,
   "metadata": {
    "collapsed": false
   },
   "outputs": [
    {
     "data": {
      "text/plain": [
       "No     18599\n",
       "Yes     7036\n",
       "dtype: int64"
      ]
     },
     "execution_count": 328,
     "metadata": {},
     "output_type": "execute_result"
    }
   ],
   "source": [
    "train = pd.read_csv(\"../../data/train.csv\", index_col=0)\n",
    "test = pd.read_csv(\"../../data/test.csv\", index_col=0)\n",
    "\n",
    "def categorising(dataset):\n",
    "    opt = dataset.copy()\n",
    "\n",
    "    opt[\"Intact\"] = opt.SexuponOutcome.replace(\"Intact Male\", \"Yes\")\n",
    "    opt.Intact = opt.Intact.replace(\"Neutered Male\", \"No\")\n",
    "    opt.Intact = opt.Intact.replace(\"Spayed Female\", \"No\")\n",
    "    opt.Intact = opt.Intact.replace(\"Intact Female\", \"Yes\")\n",
    "    opt.Intact = opt.Intact.replace(\"Unknown\", np.nan)\n",
    "\n",
    "    opt.Intact = opt.Intact.astype(\"category\")\n",
    "    opt[\"IntactValue\"] = opt.Intact.cat.codes\n",
    "\n",
    "    opt.SexuponOutcome = opt.SexuponOutcome.replace(\"Neutered Male\", \"Male\")\n",
    "    opt.SexuponOutcome = opt.SexuponOutcome.replace(\"Intact Male\", \"Male\")\n",
    "    opt.SexuponOutcome = opt.SexuponOutcome.replace(\"Spayed Female\", \"Female\")\n",
    "    opt.SexuponOutcome = opt.SexuponOutcome.replace(\"Intact Female\", \"Female\")\n",
    "    opt.SexuponOutcome = opt.SexuponOutcome.replace(\"Unknown\", np.nan)\n",
    "\n",
    "    opt.SexuponOutcome = opt.SexuponOutcome.astype(\"category\")\n",
    "    opt[\"SexuponOutcomeValue\"] = opt.SexuponOutcome.cat.codes\n",
    "\n",
    "    return opt\n",
    "\n",
    "train = categorising(train)\n",
    "test = categorising(test)\n",
    "\n",
    "opt = train.copy()\n",
    "\n",
    "opt.Intact.value_counts()"
   ]
  },
  {
   "cell_type": "code",
   "execution_count": 240,
   "metadata": {
    "collapsed": false
   },
   "outputs": [
    {
     "data": {
      "text/plain": [
       "Pit Bull Mix                     34\n",
       "Weimaraner Mix                    4\n",
       "Labrador Retriever Mix            3\n",
       "Blue Lacy Mix                     3\n",
       "Weimaraner                        3\n",
       "Chihuahua Shorthair Mix           2\n",
       "Pit Bull                          2\n",
       "Cane Corso Mix                    1\n",
       "Australian Kelpie/Blue Lacy       1\n",
       "Chow Chow                         1\n",
       "Great Dane Mix                    1\n",
       "Staffordshire Mix                 1\n",
       "Australian Kelpie Mix             1\n",
       "Great Dane/Pit Bull               1\n",
       "Chinese Sharpei/Great Dane        1\n",
       "Chinese Sharpei                   1\n",
       "Pit Bull/Flat Coat Retriever      1\n",
       "Australian Shepherd/Chow Chow     1\n",
       "Pit Bull/Weimaraner               1\n",
       "Blue Lacy/Australian Kelpie       1\n",
       "Standard Schnauzer Mix            1\n",
       "Name: Breed, dtype: int64"
      ]
     },
     "execution_count": 240,
     "metadata": {},
     "output_type": "execute_result"
    }
   ],
   "source": [
    "\n",
    "\n",
    "opt.Color.value_counts()\n",
    "\n",
    "opt[(opt.Color == \"Blue\") & (opt.AnimalType == \"Dog\")].Breed.value_counts()"
   ]
  },
  {
   "cell_type": "code",
   "execution_count": 241,
   "metadata": {
    "collapsed": false
   },
   "outputs": [
    {
     "data": {
      "text/plain": [
       "Dog    15595\n",
       "Cat    11134\n",
       "dtype: int64"
      ]
     },
     "execution_count": 241,
     "metadata": {},
     "output_type": "execute_result"
    }
   ],
   "source": [
    "opt.AnimalType = opt.AnimalType.astype(\"category\")\n",
    "opt.AnimalType.value_counts()"
   ]
  },
  {
   "cell_type": "code",
   "execution_count": 284,
   "metadata": {
    "collapsed": false
   },
   "outputs": [
    {
     "data": {
      "text/plain": [
       "Adoption           10769\n",
       "Transfer            9422\n",
       "Return_to_owner     4786\n",
       "Euthanasia          1555\n",
       "Died                 197\n",
       "dtype: int64"
      ]
     },
     "execution_count": 284,
     "metadata": {},
     "output_type": "execute_result"
    }
   ],
   "source": [
    "opt.OutcomeType = opt.OutcomeType.astype(\"category\")\n",
    "opt.OutcomeType.value_counts()\n"
   ]
  },
  {
   "cell_type": "markdown",
   "metadata": {
    "collapsed": false
   },
   "source": [
    "## Prediction"
   ]
  },
  {
   "cell_type": "code",
   "execution_count": 285,
   "metadata": {
    "collapsed": false
   },
   "outputs": [],
   "source": [
    "#create and train the random forest\n",
    "    #multi-core CPUs can use: rf = RandomForestClassifier(n_estimators=100, n_jobs=2)\n",
    "rf = RandomForestClassifier(n_estimators=100, n_jobs=2)\n",
    "\n",
    "d_train = opt[[\"SexuponOutcomeValue\", \"IntactValue\"]].values\n",
    "\n",
    "#d_train\n",
    "d_target = opt.OutcomeType.cat.codes.values"
   ]
  },
  {
   "cell_type": "code",
   "execution_count": 248,
   "metadata": {
    "collapsed": false
   },
   "outputs": [
    {
     "data": {
      "text/plain": [
       "[array([1, 0, 1, ..., 1, 1, 1], dtype=int8),\n",
       " array([1, 0, 1, ..., 1, 1, 1], dtype=int8)]"
      ]
     },
     "execution_count": 248,
     "metadata": {},
     "output_type": "execute_result"
    }
   ],
   "source": [
    "d_train\n",
    "#d_train.reshape(-1, 1)"
   ]
  },
  {
   "cell_type": "code",
   "execution_count": 288,
   "metadata": {
    "collapsed": false
   },
   "outputs": [
    {
     "data": {
      "text/plain": [
       "RandomForestClassifier(bootstrap=True, class_weight=None, criterion='gini',\n",
       "            max_depth=None, max_features='auto', max_leaf_nodes=None,\n",
       "            min_samples_leaf=1, min_samples_split=2,\n",
       "            min_weight_fraction_leaf=0.0, n_estimators=100, n_jobs=2,\n",
       "            oob_score=False, random_state=None, verbose=0,\n",
       "            warm_start=False)"
      ]
     },
     "execution_count": 288,
     "metadata": {},
     "output_type": "execute_result"
    }
   ],
   "source": [
    "rf.fit(d_train, d_target)"
   ]
  },
  {
   "cell_type": "code",
   "execution_count": 342,
   "metadata": {
    "collapsed": false
   },
   "outputs": [
    {
     "name": "stdout",
     "output_type": "stream",
     "text": [
      "[0, 1]\n",
      "[0]\n",
      "[0, 0]\n",
      "[0]\n",
      "[1, 0]\n",
      "[0]\n",
      "[1, 1]\n",
      "[0]\n",
      "[1, 0]\n",
      "[0]\n",
      "[1, 0]\n",
      "[0]\n",
      "[1, 0]\n",
      "[0]\n",
      "[0, 0]\n",
      "[0]\n",
      "[0, 0]\n",
      "[0]\n",
      "[0, 0]\n",
      "[0]\n",
      "[0, 0]\n",
      "[0]\n",
      "[0, 1]\n",
      "[0]\n",
      "[0, 0]\n",
      "[0]\n",
      "[1, 0]\n",
      "[0]\n",
      "[1, 0]\n",
      "[0]\n",
      "[0, 0]\n",
      "[0]\n",
      "[1, 0]\n",
      "[0]\n",
      "[1, 0]\n",
      "[0]\n",
      "[0, 0]\n",
      "[0]\n",
      "[0, 1]\n",
      "[0]\n",
      "[0, 0]\n",
      "[0]\n",
      "[-1, -1]\n",
      "[4]\n",
      "[1, 0]\n",
      "[0]\n",
      "[0, 1]\n",
      "[0]\n",
      "[0, 0]\n",
      "[0]\n",
      "[1, 0]\n",
      "[0]\n",
      "[0, 0]\n",
      "[0]\n",
      "[1, 1]\n",
      "[0]\n",
      "[1, 0]\n",
      "[0]\n",
      "[1, 0]\n",
      "[0]\n",
      "[0, 0]\n",
      "[0]\n",
      "[0, 0]\n",
      "[0]\n",
      "[1, 0]\n",
      "[0]\n",
      "[1, 0]\n",
      "[0]\n",
      "[0, 1]\n",
      "[0]\n",
      "[1, 0]\n",
      "[0]\n",
      "[1, 0]\n",
      "[0]\n",
      "[1, 0]\n",
      "[0]\n",
      "[0, 0]\n",
      "[0]\n",
      "[1, 0]\n",
      "[0]\n",
      "[0, 1]\n",
      "[0]\n",
      "[1, 1]\n",
      "[0]\n",
      "[0, 0]\n",
      "[0]\n",
      "[1, 1]\n",
      "[0]\n",
      "[1, 0]\n",
      "[0]\n",
      "[0, 0]\n",
      "[0]\n",
      "[0, 0]\n",
      "[0]\n",
      "[1, 0]\n",
      "[0]\n",
      "[0, 0]\n",
      "[0]\n",
      "[1, 1]\n",
      "[0]\n"
     ]
    }
   ],
   "source": [
    "for index, row in test.head(50).iterrows():\n",
    "    print([row['SexuponOutcomeValue'], row['IntactValue']])\n",
    "    print(rf.predict([[row['SexuponOutcomeValue'], row['IntactValue']]]))"
   ]
  },
  {
   "cell_type": "code",
   "execution_count": null,
   "metadata": {
    "collapsed": true
   },
   "outputs": [],
   "source": []
  },
  {
   "cell_type": "code",
   "execution_count": null,
   "metadata": {
    "collapsed": true
   },
   "outputs": [],
   "source": []
  },
  {
   "cell_type": "code",
   "execution_count": null,
   "metadata": {
    "collapsed": true
   },
   "outputs": [],
   "source": []
  }
 ],
 "metadata": {
  "kernelspec": {
   "display_name": "Python 3",
   "language": "python",
   "name": "python3"
  },
  "language_info": {
   "codemirror_mode": {
    "name": "ipython",
    "version": 3
   },
   "file_extension": ".py",
   "mimetype": "text/x-python",
   "name": "python",
   "nbconvert_exporter": "python",
   "pygments_lexer": "ipython3",
   "version": "3.5.1"
  }
 },
 "nbformat": 4,
 "nbformat_minor": 0
}
