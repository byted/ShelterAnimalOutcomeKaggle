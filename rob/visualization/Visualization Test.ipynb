{
 "cells": [
  {
   "cell_type": "code",
   "execution_count": 31,
   "metadata": {
    "collapsed": false
   },
   "outputs": [
    {
     "name": "stdout",
     "output_type": "stream",
     "text": [
      "<class 'pandas.core.frame.DataFrame'>\n"
     ]
    }
   ],
   "source": [
    "import sys\n",
    "import pandas as pd\n",
    "import sklearn.cross_validation as cv\n",
    "\n",
    "from sklearn.dummy import DummyClassifier\n",
    "from sklearn.svm import LinearSVC\n",
    "from sklearn.ensemble import RandomForestClassifier\n",
    "\n",
    "#path to the data\n",
    "DATA_PATH = '../../data/train.csv'\n",
    "\n",
    "def main(argv=None):\n",
    "    #parameter k for k-fold cv\n",
    "    if argv is None:\n",
    "        argv = sys.argv\n",
    "\n",
    "    processing()\n",
    "    \n",
    "def processing():\n",
    "    data = pd.read_csv(DATA_PATH, index_col=0)\n",
    "\n",
    "    print(type(data))\n",
    "#    for i in data.iteritems():\n",
    "#        print(i)\n",
    "    \n",
    "if __name__ == '__main__':\n",
    "    main()\n",
    "    "
   ]
  }
 ],
 "metadata": {
  "kernelspec": {
   "display_name": "Python 3",
   "language": "python",
   "name": "python3"
  },
  "language_info": {
   "codemirror_mode": {
    "name": "ipython",
    "version": 3
   },
   "file_extension": ".py",
   "mimetype": "text/x-python",
   "name": "python",
   "nbconvert_exporter": "python",
   "pygments_lexer": "ipython3",
   "version": "3.5.1"
  }
 },
 "nbformat": 4,
 "nbformat_minor": 0
}
