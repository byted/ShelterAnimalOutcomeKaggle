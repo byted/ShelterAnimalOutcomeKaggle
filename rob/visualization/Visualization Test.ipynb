{
 "cells": [
  {
   "cell_type": "markdown",
   "metadata": {},
   "source": [
    "# Statistik zum Outcome type\n",
    "Es soll ein Barplot geben, der je nach Verbleibdauer (in Jahren) zeigen soll:\n",
    "\n",
    "- **Alle positiven **\n",
    "    + Adoption\n",
    "    + Return_to_owner\n",
    "    + Transfer\n",
    "    \n",
    "- ** Alle negativen **\n",
    "    + Euthanesia \n",
    "    + Died"
   ]
  },
  {
   "cell_type": "code",
   "execution_count": 195,
   "metadata": {
    "collapsed": false
   },
   "outputs": [],
   "source": [
    "import sys\n",
    "\n",
    "import pandas as pd\n",
    "from pandas import DataFrame, Series\n",
    "\n",
    "import numpy as np\n",
    "\n",
    "import matplotlib.pyplot as plt\n",
    "import matplotlib\n",
    "\n",
    "#import xgboost as xgb\n",
    "\n",
    "%matplotlib inline"
   ]
  },
  {
   "cell_type": "code",
   "execution_count": 196,
   "metadata": {
    "collapsed": false
   },
   "outputs": [
    {
     "data": {
      "text/html": [
       "<div>\n",
       "<table border=\"1\" class=\"dataframe\">\n",
       "  <thead>\n",
       "    <tr style=\"text-align: right;\">\n",
       "      <th></th>\n",
       "      <th>Name</th>\n",
       "      <th>DateTime</th>\n",
       "      <th>OutcomeType</th>\n",
       "      <th>OutcomeSubtype</th>\n",
       "      <th>AnimalType</th>\n",
       "      <th>SexuponOutcome</th>\n",
       "      <th>AgeuponOutcome</th>\n",
       "      <th>Breed</th>\n",
       "      <th>Color</th>\n",
       "    </tr>\n",
       "    <tr>\n",
       "      <th>AnimalID</th>\n",
       "      <th></th>\n",
       "      <th></th>\n",
       "      <th></th>\n",
       "      <th></th>\n",
       "      <th></th>\n",
       "      <th></th>\n",
       "      <th></th>\n",
       "      <th></th>\n",
       "      <th></th>\n",
       "    </tr>\n",
       "  </thead>\n",
       "  <tbody>\n",
       "    <tr>\n",
       "      <th>A671945</th>\n",
       "      <td>Hambone</td>\n",
       "      <td>2014-02-12 18:22:00</td>\n",
       "      <td>Return_to_owner</td>\n",
       "      <td>NaN</td>\n",
       "      <td>Dog</td>\n",
       "      <td>Neutered Male</td>\n",
       "      <td>1 year</td>\n",
       "      <td>Shetland Sheepdog Mix</td>\n",
       "      <td>Brown/White</td>\n",
       "    </tr>\n",
       "    <tr>\n",
       "      <th>A656520</th>\n",
       "      <td>Emily</td>\n",
       "      <td>2013-10-13 12:44:00</td>\n",
       "      <td>Euthanasia</td>\n",
       "      <td>Suffering</td>\n",
       "      <td>Cat</td>\n",
       "      <td>Spayed Female</td>\n",
       "      <td>1 year</td>\n",
       "      <td>Domestic Shorthair Mix</td>\n",
       "      <td>Cream Tabby</td>\n",
       "    </tr>\n",
       "  </tbody>\n",
       "</table>\n",
       "</div>"
      ],
      "text/plain": [
       "             Name             DateTime      OutcomeType OutcomeSubtype  \\\n",
       "AnimalID                                                                 \n",
       "A671945   Hambone  2014-02-12 18:22:00  Return_to_owner            NaN   \n",
       "A656520     Emily  2013-10-13 12:44:00       Euthanasia      Suffering   \n",
       "\n",
       "         AnimalType SexuponOutcome AgeuponOutcome                   Breed  \\\n",
       "AnimalID                                                                    \n",
       "A671945         Dog  Neutered Male         1 year   Shetland Sheepdog Mix   \n",
       "A656520         Cat  Spayed Female         1 year  Domestic Shorthair Mix   \n",
       "\n",
       "                Color  \n",
       "AnimalID               \n",
       "A671945   Brown/White  \n",
       "A656520   Cream Tabby  "
      ]
     },
     "execution_count": 196,
     "metadata": {},
     "output_type": "execute_result"
    }
   ],
   "source": [
    "data = pd.read_csv(\"../../data/train.csv\", index_col=0)\n",
    "data.head(2)"
   ]
  },
  {
   "cell_type": "code",
   "execution_count": 197,
   "metadata": {
    "collapsed": false
   },
   "outputs": [
    {
     "data": {
      "text/plain": [
       "Partner                7816\n",
       "Foster                 1800\n",
       "SCRP                   1599\n",
       "Suffering              1002\n",
       "Aggressive              320\n",
       "Offsite                 165\n",
       "In Kennel               114\n",
       "Behavior                 86\n",
       "Rabies Risk              74\n",
       "Medical                  66\n",
       "In Foster                52\n",
       "Enroute                   8\n",
       "Court/Investigation       6\n",
       "At Vet                    4\n",
       "In Surgery                3\n",
       "Barn                      2\n",
       "Name: OutcomeSubtype, dtype: int64"
      ]
     },
     "execution_count": 197,
     "metadata": {},
     "output_type": "execute_result"
    }
   ],
   "source": [
    "data.OutcomeSubtype.value_counts()"
   ]
  },
  {
   "cell_type": "code",
   "execution_count": 198,
   "metadata": {
    "collapsed": false
   },
   "outputs": [
    {
     "data": {
      "text/plain": [
       "Index(['Name', 'DateTime', 'OutcomeType', 'OutcomeSubtype', 'AnimalType',\n",
       "       'SexuponOutcome', 'AgeuponOutcome', 'Breed', 'Color'],\n",
       "      dtype='object')"
      ]
     },
     "execution_count": 198,
     "metadata": {},
     "output_type": "execute_result"
    }
   ],
   "source": [
    "data.columns"
   ]
  },
  {
   "cell_type": "markdown",
   "metadata": {},
   "source": [
    "#### Das Problem hier ist, dass in AgeuponOutcome mit unterschiedlichen Einheiten (Jahr, Jahre, Monat, Monate, Woche, Wochen, ...) gerechnet wird. Also muss das erstmal auf Jahre gerechnet werden.\n",
    "Es gibt auch noch den blöden Sonderfall \"0 years\". Ich rechne das mal auf einen Tag um ..."
   ]
  },
  {
   "cell_type": "code",
   "execution_count": 199,
   "metadata": {
    "collapsed": false
   },
   "outputs": [
    {
     "data": {
      "text/plain": [
       "0"
      ]
     },
     "execution_count": 199,
     "metadata": {},
     "output_type": "execute_result"
    }
   ],
   "source": [
    "data[data.AgeuponOutcome.isnull() & ~data.Name.isnull()].size\n",
    "#data[data.Name.isnull()].size\n",
    "#data.AgeuponOutcome.median()"
   ]
  },
  {
   "cell_type": "code",
   "execution_count": 200,
   "metadata": {
    "collapsed": false
   },
   "outputs": [
    {
     "data": {
      "text/plain": [
       "3 days    109\n",
       "2 days     99\n",
       "1 day      66\n",
       "4 days     50\n",
       "6 days     50\n",
       "5 days     24\n",
       "Name: AgeuponOutcome, dtype: int64"
      ]
     },
     "execution_count": 200,
     "metadata": {},
     "output_type": "execute_result"
    }
   ],
   "source": [
    "data[(~data.AgeuponOutcome.isnull()) & (data.AgeuponOutcome.str.contains(\"day\"))].AgeuponOutcome.value_counts()#.head(5)"
   ]
  },
  {
   "cell_type": "code",
   "execution_count": 201,
   "metadata": {
    "collapsed": false
   },
   "outputs": [
    {
     "data": {
      "text/plain": [
       "year     14843\n",
       "month     9620\n",
       "week      1850\n",
       "day        398\n",
       "Name: AgeuponOutcomeUnit, dtype: int64"
      ]
     },
     "execution_count": 201,
     "metadata": {},
     "output_type": "execute_result"
    }
   ],
   "source": [
    "s = data.AgeuponOutcome.str.split(\" \")\n",
    "\n",
    "split = DataFrame({\"AgeuponOutcomeValue\": s.apply(Series, 1)[0], \n",
    "                   \"AgeuponOutcomeUnit\": s.apply(Series, 1)[1]})\n",
    "\n",
    "\n",
    "data = data.join(split)\n",
    "\n",
    "data.AgeuponOutcomeUnit = data.AgeuponOutcomeUnit.str.replace(\"s$\", \"\")\n",
    "data.AgeuponOutcomeValue = data.AgeuponOutcomeValue.astype(float)\n",
    "\n",
    "data.AgeuponOutcomeUnit.value_counts()"
   ]
  },
  {
   "cell_type": "code",
   "execution_count": 202,
   "metadata": {
    "collapsed": false
   },
   "outputs": [
    {
     "data": {
      "text/html": [
       "<div>\n",
       "<table border=\"1\" class=\"dataframe\">\n",
       "  <thead>\n",
       "    <tr style=\"text-align: right;\">\n",
       "      <th></th>\n",
       "      <th>Name</th>\n",
       "      <th>DateTime</th>\n",
       "      <th>OutcomeType</th>\n",
       "      <th>OutcomeSubtype</th>\n",
       "      <th>AnimalType</th>\n",
       "      <th>SexuponOutcome</th>\n",
       "      <th>Breed</th>\n",
       "      <th>Color</th>\n",
       "      <th>AgeuponOutcomeDays</th>\n",
       "    </tr>\n",
       "    <tr>\n",
       "      <th>AnimalID</th>\n",
       "      <th></th>\n",
       "      <th></th>\n",
       "      <th></th>\n",
       "      <th></th>\n",
       "      <th></th>\n",
       "      <th></th>\n",
       "      <th></th>\n",
       "      <th></th>\n",
       "      <th></th>\n",
       "    </tr>\n",
       "  </thead>\n",
       "  <tbody>\n",
       "    <tr>\n",
       "      <th>A006100</th>\n",
       "      <td>Scamp</td>\n",
       "      <td>2014-12-20 16:35:00</td>\n",
       "      <td>Return_to_owner</td>\n",
       "      <td>NaN</td>\n",
       "      <td>Dog</td>\n",
       "      <td>Neutered Male</td>\n",
       "      <td>Spinone Italiano Mix</td>\n",
       "      <td>Yellow/White</td>\n",
       "      <td>2555.0</td>\n",
       "    </tr>\n",
       "  </tbody>\n",
       "</table>\n",
       "</div>"
      ],
      "text/plain": [
       "           Name             DateTime      OutcomeType OutcomeSubtype  \\\n",
       "AnimalID                                                               \n",
       "A006100   Scamp  2014-12-20 16:35:00  Return_to_owner            NaN   \n",
       "\n",
       "         AnimalType SexuponOutcome                 Breed         Color  \\\n",
       "AnimalID                                                                 \n",
       "A006100         Dog  Neutered Male  Spinone Italiano Mix  Yellow/White   \n",
       "\n",
       "          AgeuponOutcomeDays  \n",
       "AnimalID                      \n",
       "A006100               2555.0  "
      ]
     },
     "execution_count": 202,
     "metadata": {},
     "output_type": "execute_result"
    }
   ],
   "source": [
    "vals = data[data.AgeuponOutcomeUnit == \"year\"].AgeuponOutcomeValue * 365\n",
    "vals = vals.append(data[data.AgeuponOutcomeUnit == \"month\"].AgeuponOutcomeValue * 30)\n",
    "vals = vals.append(data[data.AgeuponOutcomeUnit == \"day\"].AgeuponOutcomeValue)\n",
    "vals.rename(\"AgeuponOutcomeDays\", inplace=True)\n",
    "\n",
    "vals.sort_index(inplace=True)\n",
    "data.sort_index(inplace=True)\n",
    "data = data.join(vals)\n",
    "data.drop([\"AgeuponOutcome\", \"AgeuponOutcomeUnit\", \"AgeuponOutcomeValue\"], 1, inplace=True)\n",
    "data.head(1)"
   ]
  },
  {
   "cell_type": "code",
   "execution_count": null,
   "metadata": {
    "collapsed": true
   },
   "outputs": [],
   "source": [
    "data"
   ]
  },
  {
   "cell_type": "code",
   "execution_count": 132,
   "metadata": {
    "collapsed": false
   },
   "outputs": [
    {
     "data": {
      "text/plain": [
       "array([1])"
      ]
     },
     "execution_count": 132,
     "metadata": {},
     "output_type": "execute_result"
    }
   ],
   "source": [
    "from sklearn import tree\n",
    "X = [[0, 0], [2, 2], [5, 6]]\n",
    "Y = [0, 5, 1]\n",
    "clf = tree.DecisionTreeClassifier()\n",
    "clf = clf.fit(X, Y)\n",
    "clf.predict([[5., 5.]])\n",
    "\n",
    "#iris = load_iris()\n",
    "#clf = tree.DecisionTreeClassifier()\n",
    "#clf = clf.fit(iris.data, iris.target)"
   ]
  },
  {
   "cell_type": "code",
   "execution_count": 133,
   "metadata": {
    "collapsed": false
   },
   "outputs": [
    {
     "data": {
      "text/plain": [
       "Black                2292\n",
       "Brown Tabby          1635\n",
       "White                 931\n",
       "Orange Tabby          841\n",
       "Tricolor              752\n",
       "Brown                 639\n",
       "Tan                   628\n",
       "Tortie                530\n",
       "Calico                517\n",
       "Blue                  450\n",
       "Blue Tabby            433\n",
       "Red                   337\n",
       "Torbie                335\n",
       "Brown Brindle         232\n",
       "Buff                  199\n",
       "Sable                 198\n",
       "Cream Tabby           198\n",
       "Yellow                185\n",
       "Lynx Point            168\n",
       "Cream                 151\n",
       "Chocolate             137\n",
       "Seal Point            136\n",
       "Gray                   94\n",
       "Flame Point            85\n",
       "Blue Merle             77\n",
       "Fawn                   73\n",
       "Gold                   52\n",
       "Black Smoke            46\n",
       "Black Tabby            42\n",
       "Lilac Point            39\n",
       "Gray Tabby             35\n",
       "Brown Merle            35\n",
       "Tortie Point           32\n",
       "Blue Point             29\n",
       "Silver Tabby           28\n",
       "Red Merle              26\n",
       "Calico Point           25\n",
       "Apricot                21\n",
       "Black Brindle          20\n",
       "Blue Tick              18\n",
       "Silver                 17\n",
       "Red Tick               17\n",
       "Chocolate Point        16\n",
       "Orange                 15\n",
       "Yellow Brindle         12\n",
       "Blue Cream             11\n",
       "Blue Smoke              4\n",
       "Liver Tick              3\n",
       "Brown Tiger             3\n",
       "Silver Lynx Point       2\n",
       "Orange Tiger            1\n",
       "Pink                    1\n",
       "Agouti                  1\n",
       "Blue Tiger              1\n",
       "Name: Color, dtype: int64"
      ]
     },
     "execution_count": 133,
     "metadata": {},
     "output_type": "execute_result"
    }
   ],
   "source": [
    "data[~data.Color.str.contains(\"/\")].Color.value_counts()"
   ]
  },
  {
   "cell_type": "code",
   "execution_count": 134,
   "metadata": {
    "collapsed": false
   },
   "outputs": [
    {
     "data": {
      "text/plain": [
       "Dog    15595\n",
       "Cat    11134\n",
       "Name: AnimalType, dtype: int64"
      ]
     },
     "execution_count": 134,
     "metadata": {},
     "output_type": "execute_result"
    }
   ],
   "source": [
    "data.AnimalType.value_counts()"
   ]
  },
  {
   "cell_type": "code",
   "execution_count": 135,
   "metadata": {
    "collapsed": false
   },
   "outputs": [
    {
     "data": {
      "text/html": [
       "<div>\n",
       "<table border=\"1\" class=\"dataframe\">\n",
       "  <thead>\n",
       "    <tr style=\"text-align: right;\">\n",
       "      <th></th>\n",
       "      <th>Name</th>\n",
       "      <th>DateTime</th>\n",
       "      <th>OutcomeType</th>\n",
       "      <th>OutcomeSubtype</th>\n",
       "      <th>AnimalType</th>\n",
       "      <th>SexuponOutcome</th>\n",
       "      <th>Breed</th>\n",
       "      <th>Color</th>\n",
       "      <th>AgeuponOutcomeWeeks</th>\n",
       "    </tr>\n",
       "    <tr>\n",
       "      <th>AnimalID</th>\n",
       "      <th></th>\n",
       "      <th></th>\n",
       "      <th></th>\n",
       "      <th></th>\n",
       "      <th></th>\n",
       "      <th></th>\n",
       "      <th></th>\n",
       "      <th></th>\n",
       "      <th></th>\n",
       "    </tr>\n",
       "  </thead>\n",
       "  <tbody>\n",
       "    <tr>\n",
       "      <th>A006100</th>\n",
       "      <td>Scamp</td>\n",
       "      <td>2014-12-20 16:35:00</td>\n",
       "      <td>Return_to_owner</td>\n",
       "      <td>NaN</td>\n",
       "      <td>Dog</td>\n",
       "      <td>Neutered Male</td>\n",
       "      <td>Spinone Italiano Mix</td>\n",
       "      <td>Yellow/White</td>\n",
       "      <td>364.0</td>\n",
       "    </tr>\n",
       "    <tr>\n",
       "      <th>A047759</th>\n",
       "      <td>Oreo</td>\n",
       "      <td>2014-04-07 15:12:00</td>\n",
       "      <td>Transfer</td>\n",
       "      <td>Partner</td>\n",
       "      <td>Dog</td>\n",
       "      <td>Neutered Male</td>\n",
       "      <td>Dachshund</td>\n",
       "      <td>Tricolor</td>\n",
       "      <td>520.0</td>\n",
       "    </tr>\n",
       "    <tr>\n",
       "      <th>A134067</th>\n",
       "      <td>Bandit</td>\n",
       "      <td>2013-11-16 11:54:00</td>\n",
       "      <td>Return_to_owner</td>\n",
       "      <td>NaN</td>\n",
       "      <td>Dog</td>\n",
       "      <td>Neutered Male</td>\n",
       "      <td>Shetland Sheepdog</td>\n",
       "      <td>Brown/White</td>\n",
       "      <td>832.0</td>\n",
       "    </tr>\n",
       "    <tr>\n",
       "      <th>A141142</th>\n",
       "      <td>Bettie</td>\n",
       "      <td>2013-11-17 11:40:00</td>\n",
       "      <td>Return_to_owner</td>\n",
       "      <td>NaN</td>\n",
       "      <td>Dog</td>\n",
       "      <td>Spayed Female</td>\n",
       "      <td>Labrador Retriever/Pit Bull</td>\n",
       "      <td>Black/White</td>\n",
       "      <td>780.0</td>\n",
       "    </tr>\n",
       "    <tr>\n",
       "      <th>A163459</th>\n",
       "      <td>Sasha</td>\n",
       "      <td>2014-11-14 19:28:00</td>\n",
       "      <td>Return_to_owner</td>\n",
       "      <td>NaN</td>\n",
       "      <td>Dog</td>\n",
       "      <td>Intact Female</td>\n",
       "      <td>Miniature Schnauzer Mix</td>\n",
       "      <td>Black/Gray</td>\n",
       "      <td>780.0</td>\n",
       "    </tr>\n",
       "  </tbody>\n",
       "</table>\n",
       "</div>"
      ],
      "text/plain": [
       "            Name             DateTime      OutcomeType OutcomeSubtype  \\\n",
       "AnimalID                                                                \n",
       "A006100    Scamp  2014-12-20 16:35:00  Return_to_owner            NaN   \n",
       "A047759     Oreo  2014-04-07 15:12:00         Transfer        Partner   \n",
       "A134067   Bandit  2013-11-16 11:54:00  Return_to_owner            NaN   \n",
       "A141142   Bettie  2013-11-17 11:40:00  Return_to_owner            NaN   \n",
       "A163459    Sasha  2014-11-14 19:28:00  Return_to_owner            NaN   \n",
       "\n",
       "         AnimalType SexuponOutcome                        Breed         Color  \\\n",
       "AnimalID                                                                        \n",
       "A006100         Dog  Neutered Male         Spinone Italiano Mix  Yellow/White   \n",
       "A047759         Dog  Neutered Male                    Dachshund      Tricolor   \n",
       "A134067         Dog  Neutered Male            Shetland Sheepdog   Brown/White   \n",
       "A141142         Dog  Spayed Female  Labrador Retriever/Pit Bull   Black/White   \n",
       "A163459         Dog  Intact Female      Miniature Schnauzer Mix    Black/Gray   \n",
       "\n",
       "          AgeuponOutcomeWeeks  \n",
       "AnimalID                       \n",
       "A006100                 364.0  \n",
       "A047759                 520.0  \n",
       "A134067                 832.0  \n",
       "A141142                 780.0  \n",
       "A163459                 780.0  "
      ]
     },
     "execution_count": 135,
     "metadata": {},
     "output_type": "execute_result"
    }
   ],
   "source": [
    "data.head()"
   ]
  },
  {
   "cell_type": "code",
   "execution_count": 141,
   "metadata": {
    "collapsed": false
   },
   "outputs": [
    {
     "data": {
      "text/html": [
       "<div>\n",
       "<table border=\"1\" class=\"dataframe\">\n",
       "  <thead>\n",
       "    <tr style=\"text-align: right;\">\n",
       "      <th></th>\n",
       "      <th>Name</th>\n",
       "      <th>DateTime</th>\n",
       "      <th>OutcomeType</th>\n",
       "      <th>OutcomeSubtype</th>\n",
       "      <th>AnimalType</th>\n",
       "      <th>SexuponOutcome</th>\n",
       "      <th>Breed</th>\n",
       "      <th>Color</th>\n",
       "      <th>AgeuponOutcomeWeeks</th>\n",
       "    </tr>\n",
       "    <tr>\n",
       "      <th>AnimalID</th>\n",
       "      <th></th>\n",
       "      <th></th>\n",
       "      <th></th>\n",
       "      <th></th>\n",
       "      <th></th>\n",
       "      <th></th>\n",
       "      <th></th>\n",
       "      <th></th>\n",
       "      <th></th>\n",
       "    </tr>\n",
       "  </thead>\n",
       "  <tbody>\n",
       "    <tr>\n",
       "      <th>A214991</th>\n",
       "      <td>Prissy</td>\n",
       "      <td>2013-12-14 13:28:00</td>\n",
       "      <td>1</td>\n",
       "      <td>Suffering</td>\n",
       "      <td>2</td>\n",
       "      <td>Spayed Female</td>\n",
       "      <td>Domestic Shorthair</td>\n",
       "      <td>1</td>\n",
       "      <td>988.0</td>\n",
       "    </tr>\n",
       "    <tr>\n",
       "      <th>A215368</th>\n",
       "      <td>Guiness</td>\n",
       "      <td>2014-08-04 16:31:00</td>\n",
       "      <td>1</td>\n",
       "      <td>NaN</td>\n",
       "      <td>1</td>\n",
       "      <td>Neutered Male</td>\n",
       "      <td>Newfoundland Mix</td>\n",
       "      <td>1</td>\n",
       "      <td>676.0</td>\n",
       "    </tr>\n",
       "    <tr>\n",
       "      <th>A275975</th>\n",
       "      <td>Squeakers</td>\n",
       "      <td>2013-10-12 11:27:00</td>\n",
       "      <td>1</td>\n",
       "      <td>NaN</td>\n",
       "      <td>2</td>\n",
       "      <td>Spayed Female</td>\n",
       "      <td>Domestic Shorthair Mix</td>\n",
       "      <td>1</td>\n",
       "      <td>572.0</td>\n",
       "    </tr>\n",
       "    <tr>\n",
       "      <th>A276780</th>\n",
       "      <td>Seth</td>\n",
       "      <td>2013-11-22 15:56:00</td>\n",
       "      <td>1</td>\n",
       "      <td>NaN</td>\n",
       "      <td>1</td>\n",
       "      <td>Neutered Male</td>\n",
       "      <td>Border Collie/Chow Chow</td>\n",
       "      <td>1</td>\n",
       "      <td>572.0</td>\n",
       "    </tr>\n",
       "    <tr>\n",
       "      <th>A287217</th>\n",
       "      <td>Spider</td>\n",
       "      <td>2014-10-31 13:06:00</td>\n",
       "      <td>1</td>\n",
       "      <td>NaN</td>\n",
       "      <td>2</td>\n",
       "      <td>Spayed Female</td>\n",
       "      <td>Domestic Shorthair Mix</td>\n",
       "      <td>1</td>\n",
       "      <td>624.0</td>\n",
       "    </tr>\n",
       "    <tr>\n",
       "      <th>A295822</th>\n",
       "      <td>Fuzzy</td>\n",
       "      <td>2015-05-09 18:47:00</td>\n",
       "      <td>1</td>\n",
       "      <td>NaN</td>\n",
       "      <td>2</td>\n",
       "      <td>Spayed Female</td>\n",
       "      <td>Domestic Longhair Mix</td>\n",
       "      <td>1</td>\n",
       "      <td>624.0</td>\n",
       "    </tr>\n",
       "    <tr>\n",
       "      <th>A306362</th>\n",
       "      <td>Zoey</td>\n",
       "      <td>2015-07-18 16:40:00</td>\n",
       "      <td>1</td>\n",
       "      <td>NaN</td>\n",
       "      <td>1</td>\n",
       "      <td>Spayed Female</td>\n",
       "      <td>Labrador Retriever/Chow Chow</td>\n",
       "      <td>1</td>\n",
       "      <td>676.0</td>\n",
       "    </tr>\n",
       "    <tr>\n",
       "      <th>A341599</th>\n",
       "      <td>Reece</td>\n",
       "      <td>2014-01-11 11:05:00</td>\n",
       "      <td>1</td>\n",
       "      <td>Partner</td>\n",
       "      <td>2</td>\n",
       "      <td>Neutered Male</td>\n",
       "      <td>Domestic Shorthair Mix</td>\n",
       "      <td>1</td>\n",
       "      <td>468.0</td>\n",
       "    </tr>\n",
       "    <tr>\n",
       "      <th>A346599</th>\n",
       "      <td>Assassin</td>\n",
       "      <td>2015-12-04 12:22:00</td>\n",
       "      <td>1</td>\n",
       "      <td>Partner</td>\n",
       "      <td>2</td>\n",
       "      <td>Intact Male</td>\n",
       "      <td>Domestic Shorthair Mix</td>\n",
       "      <td>1</td>\n",
       "      <td>572.0</td>\n",
       "    </tr>\n",
       "    <tr>\n",
       "      <th>A354725</th>\n",
       "      <td>Kia</td>\n",
       "      <td>2015-08-29 15:17:00</td>\n",
       "      <td>1</td>\n",
       "      <td>Partner</td>\n",
       "      <td>1</td>\n",
       "      <td>Spayed Female</td>\n",
       "      <td>Labrador Retriever/Beagle</td>\n",
       "      <td>1</td>\n",
       "      <td>572.0</td>\n",
       "    </tr>\n",
       "  </tbody>\n",
       "</table>\n",
       "</div>"
      ],
      "text/plain": [
       "               Name             DateTime  OutcomeType OutcomeSubtype  \\\n",
       "AnimalID                                                               \n",
       "A214991      Prissy  2013-12-14 13:28:00            1      Suffering   \n",
       "A215368     Guiness  2014-08-04 16:31:00            1            NaN   \n",
       "A275975   Squeakers  2013-10-12 11:27:00            1            NaN   \n",
       "A276780        Seth  2013-11-22 15:56:00            1            NaN   \n",
       "A287217      Spider  2014-10-31 13:06:00            1            NaN   \n",
       "A295822       Fuzzy  2015-05-09 18:47:00            1            NaN   \n",
       "A306362        Zoey  2015-07-18 16:40:00            1            NaN   \n",
       "A341599       Reece  2014-01-11 11:05:00            1        Partner   \n",
       "A346599    Assassin  2015-12-04 12:22:00            1        Partner   \n",
       "A354725         Kia  2015-08-29 15:17:00            1        Partner   \n",
       "\n",
       "         AnimalType SexuponOutcome                         Breed Color  \\\n",
       "AnimalID                                                                 \n",
       "A214991           2  Spayed Female            Domestic Shorthair     1   \n",
       "A215368           1  Neutered Male              Newfoundland Mix     1   \n",
       "A275975           2  Spayed Female        Domestic Shorthair Mix     1   \n",
       "A276780           1  Neutered Male       Border Collie/Chow Chow     1   \n",
       "A287217           2  Spayed Female        Domestic Shorthair Mix     1   \n",
       "A295822           2  Spayed Female         Domestic Longhair Mix     1   \n",
       "A306362           1  Spayed Female  Labrador Retriever/Chow Chow     1   \n",
       "A341599           2  Neutered Male        Domestic Shorthair Mix     1   \n",
       "A346599           2    Intact Male        Domestic Shorthair Mix     1   \n",
       "A354725           1  Spayed Female     Labrador Retriever/Beagle     1   \n",
       "\n",
       "          AgeuponOutcomeWeeks  \n",
       "AnimalID                       \n",
       "A214991                 988.0  \n",
       "A215368                 676.0  \n",
       "A275975                 572.0  \n",
       "A276780                 572.0  \n",
       "A287217                 624.0  \n",
       "A295822                 624.0  \n",
       "A306362                 676.0  \n",
       "A341599                 468.0  \n",
       "A346599                 572.0  \n",
       "A354725                 572.0  "
      ]
     },
     "execution_count": 141,
     "metadata": {},
     "output_type": "execute_result"
    }
   ],
   "source": [
    "md = data[data.AnimalType.isin([\"Dog\", \"Cat\"])]\n",
    "md.AnimalType = md.AnimalType.replace(\"Dog\", \"1\")\n",
    "md.AnimalType = md.AnimalType.replace(\"Cat\", \"2\")\n",
    "\n",
    "md.Color = md.Color.replace(\"Black\", 1)\n",
    "md.Color = md.Color.replace(\"White\", 2)\n",
    "md.Color = md.Color.replace(\"Pink\", 3)\n",
    "\n",
    "md = md[md.Color.isin([1,2,3])]\n",
    "\n",
    "md.OutcomeType = md.Color.replace(\"Died\", 1)\n",
    "md.OutcomeType = md.Color.replace(\"Adoption\", 2)\n",
    "\n",
    "md = md[md.OutcomeType.isin([1,2])]\n",
    "\n",
    "md.head(10)\n",
    "\n",
    "#md.OutcomeType.value_counts()\n",
    "\n",
    "#md[[\"AnimalType\", \"Color\"]].values\n",
    "#md[\"OutcomeType\"].values"
   ]
  },
  {
   "cell_type": "code",
   "execution_count": 143,
   "metadata": {
    "collapsed": false
   },
   "outputs": [
    {
     "data": {
      "text/plain": [
       "array([1, 1, 1, ..., 2, 2, 1])"
      ]
     },
     "execution_count": 143,
     "metadata": {},
     "output_type": "execute_result"
    }
   ],
   "source": [
    "#md[[\"AnimalType\", \"Color\"]].values\n",
    "md[\"OutcomeType\"].values"
   ]
  },
  {
   "cell_type": "code",
   "execution_count": 147,
   "metadata": {
    "collapsed": false
   },
   "outputs": [
    {
     "data": {
      "text/plain": [
       "array([[ 0.,  1.]])"
      ]
     },
     "execution_count": 147,
     "metadata": {},
     "output_type": "execute_result"
    }
   ],
   "source": [
    "X = md[[\"AnimalType\", \"Color\"]].values\n",
    "Y = md[\"OutcomeType\"].values\n",
    "clf = tree.DecisionTreeClassifier()\n",
    "clf = clf.fit(X, Y)\n",
    "clf.predict_proba ([[2, 3]])"
   ]
  },
  {
   "cell_type": "code",
   "execution_count": null,
   "metadata": {
    "collapsed": true
   },
   "outputs": [],
   "source": []
  },
  {
   "cell_type": "code",
   "execution_count": null,
   "metadata": {
    "collapsed": true
   },
   "outputs": [],
   "source": []
  },
  {
   "cell_type": "code",
   "execution_count": null,
   "metadata": {
    "collapsed": true
   },
   "outputs": [],
   "source": []
  },
  {
   "cell_type": "code",
   "execution_count": null,
   "metadata": {
    "collapsed": true
   },
   "outputs": [],
   "source": []
  },
  {
   "cell_type": "code",
   "execution_count": null,
   "metadata": {
    "collapsed": true
   },
   "outputs": [],
   "source": []
  },
  {
   "cell_type": "code",
   "execution_count": null,
   "metadata": {
    "collapsed": true
   },
   "outputs": [],
   "source": []
  },
  {
   "cell_type": "code",
   "execution_count": null,
   "metadata": {
    "collapsed": true
   },
   "outputs": [],
   "source": []
  },
  {
   "cell_type": "code",
   "execution_count": null,
   "metadata": {
    "collapsed": true
   },
   "outputs": [],
   "source": []
  }
 ],
 "metadata": {
  "kernelspec": {
   "display_name": "Python 3",
   "language": "python",
   "name": "python3"
  },
  "language_info": {
   "codemirror_mode": {
    "name": "ipython",
    "version": 3
   },
   "file_extension": ".py",
   "mimetype": "text/x-python",
   "name": "python",
   "nbconvert_exporter": "python",
   "pygments_lexer": "ipython3",
   "version": "3.5.1"
  }
 },
 "nbformat": 4,
 "nbformat_minor": 0
}
